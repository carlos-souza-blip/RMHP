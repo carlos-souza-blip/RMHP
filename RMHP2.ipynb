{
  "nbformat": 4,
  "nbformat_minor": 0,
  "metadata": {
    "colab": {
      "name": "RMHP2.ipynb",
      "provenance": [],
      "collapsed_sections": [],
      "authorship_tag": "ABX9TyPv9xlD6dgEztGLNzbRh3af",
      "include_colab_link": true
    },
    "kernelspec": {
      "name": "python3",
      "display_name": "Python 3"
    },
    "language_info": {
      "name": "python"
    }
  },
  "cells": [
    {
      "cell_type": "markdown",
      "metadata": {
        "id": "view-in-github",
        "colab_type": "text"
      },
      "source": [
        "<a href=\"https://colab.research.google.com/github/carlos-souza-blip/RMHP/blob/main/RMHP2.ipynb\" target=\"_parent\"><img src=\"https://colab.research.google.com/assets/colab-badge.svg\" alt=\"Open In Colab\"/></a>"
      ]
    },
    {
      "cell_type": "markdown",
      "metadata": {
        "id": "qiGhd0W6jJ9f"
      },
      "source": [
        "# Banco de dados - RMHP, ano 2017."
      ]
    },
    {
      "cell_type": "code",
      "metadata": {
        "id": "da6UvkYuiFYi"
      },
      "source": [
        "# importando Bibliotecas\n",
        "import pandas as pd\n",
        "import numpy as np\n",
        "from sklearn.linear_model import LogisticRegression\n",
        "from sklearn.metrics import roc_auc_score, roc_curve, classification_report,\\\n",
        "                            accuracy_score, confusion_matrix, auc, mean_squared_error\n",
        "from sklearn.model_selection import train_test_split\n",
        "from sklearn import metrics\n",
        "from matplotlib import pyplot\n",
        "from math import sqrt"
      ],
      "execution_count": 1,
      "outputs": []
    },
    {
      "cell_type": "code",
      "metadata": {
        "colab": {
          "base_uri": "https://localhost:8080/",
          "height": 419
        },
        "id": "SzTpYKVTiUNi",
        "outputId": "5af68e04-3276-4e84-f269-b2639985a9a4"
      },
      "source": [
        "# Dados de 2017 (RMHP)\n",
        "df = pd.read_csv('https://raw.githubusercontent.com/carlos-souza-blip/RMHP/main/rmhp_selecao_2017_GO_.csv', sep= \",\")\n",
        "df"
      ],
      "execution_count": 2,
      "outputs": [
        {
          "output_type": "execute_result",
          "data": {
            "text/html": [
              "<div>\n",
              "<style scoped>\n",
              "    .dataframe tbody tr th:only-of-type {\n",
              "        vertical-align: middle;\n",
              "    }\n",
              "\n",
              "    .dataframe tbody tr th {\n",
              "        vertical-align: top;\n",
              "    }\n",
              "\n",
              "    .dataframe thead th {\n",
              "        text-align: right;\n",
              "    }\n",
              "</style>\n",
              "<table border=\"1\" class=\"dataframe\">\n",
              "  <thead>\n",
              "    <tr style=\"text-align: right;\">\n",
              "      <th></th>\n",
              "      <th>cnes</th>\n",
              "      <th>sexo</th>\n",
              "      <th>idade</th>\n",
              "      <th>diag_princ</th>\n",
              "      <th>dias_perm</th>\n",
              "      <th>ano</th>\n",
              "      <th>fxidade</th>\n",
              "      <th>cid50</th>\n",
              "      <th>permanencia</th>\n",
              "      <th>uso_uti</th>\n",
              "      <th>obito</th>\n",
              "      <th>icc</th>\n",
              "      <th>ieh</th>\n",
              "    </tr>\n",
              "  </thead>\n",
              "  <tbody>\n",
              "    <tr>\n",
              "      <th>0</th>\n",
              "      <td>2338262</td>\n",
              "      <td>3</td>\n",
              "      <td>28</td>\n",
              "      <td>A049</td>\n",
              "      <td>5</td>\n",
              "      <td>2017</td>\n",
              "      <td>1</td>\n",
              "      <td>0</td>\n",
              "      <td>2</td>\n",
              "      <td>0</td>\n",
              "      <td>0</td>\n",
              "      <td>0</td>\n",
              "      <td>0</td>\n",
              "    </tr>\n",
              "    <tr>\n",
              "      <th>1</th>\n",
              "      <td>2338262</td>\n",
              "      <td>1</td>\n",
              "      <td>38</td>\n",
              "      <td>F130</td>\n",
              "      <td>13</td>\n",
              "      <td>2017</td>\n",
              "      <td>1</td>\n",
              "      <td>0</td>\n",
              "      <td>4</td>\n",
              "      <td>1</td>\n",
              "      <td>1</td>\n",
              "      <td>0</td>\n",
              "      <td>0</td>\n",
              "    </tr>\n",
              "    <tr>\n",
              "      <th>2</th>\n",
              "      <td>2338262</td>\n",
              "      <td>1</td>\n",
              "      <td>86</td>\n",
              "      <td>I743</td>\n",
              "      <td>10</td>\n",
              "      <td>2017</td>\n",
              "      <td>5</td>\n",
              "      <td>0</td>\n",
              "      <td>3</td>\n",
              "      <td>0</td>\n",
              "      <td>0</td>\n",
              "      <td>0</td>\n",
              "      <td>0</td>\n",
              "    </tr>\n",
              "    <tr>\n",
              "      <th>3</th>\n",
              "      <td>2338262</td>\n",
              "      <td>3</td>\n",
              "      <td>60</td>\n",
              "      <td>K297</td>\n",
              "      <td>10</td>\n",
              "      <td>2017</td>\n",
              "      <td>3</td>\n",
              "      <td>0</td>\n",
              "      <td>3</td>\n",
              "      <td>0</td>\n",
              "      <td>0</td>\n",
              "      <td>0</td>\n",
              "      <td>0</td>\n",
              "    </tr>\n",
              "    <tr>\n",
              "      <th>4</th>\n",
              "      <td>2338262</td>\n",
              "      <td>1</td>\n",
              "      <td>37</td>\n",
              "      <td>K810</td>\n",
              "      <td>2</td>\n",
              "      <td>2017</td>\n",
              "      <td>1</td>\n",
              "      <td>0</td>\n",
              "      <td>2</td>\n",
              "      <td>0</td>\n",
              "      <td>0</td>\n",
              "      <td>0</td>\n",
              "      <td>0</td>\n",
              "    </tr>\n",
              "    <tr>\n",
              "      <th>...</th>\n",
              "      <td>...</td>\n",
              "      <td>...</td>\n",
              "      <td>...</td>\n",
              "      <td>...</td>\n",
              "      <td>...</td>\n",
              "      <td>...</td>\n",
              "      <td>...</td>\n",
              "      <td>...</td>\n",
              "      <td>...</td>\n",
              "      <td>...</td>\n",
              "      <td>...</td>\n",
              "      <td>...</td>\n",
              "      <td>...</td>\n",
              "    </tr>\n",
              "    <tr>\n",
              "      <th>45925</th>\n",
              "      <td>7743068</td>\n",
              "      <td>3</td>\n",
              "      <td>57</td>\n",
              "      <td>M840</td>\n",
              "      <td>1</td>\n",
              "      <td>2017</td>\n",
              "      <td>2</td>\n",
              "      <td>0</td>\n",
              "      <td>1</td>\n",
              "      <td>0</td>\n",
              "      <td>0</td>\n",
              "      <td>0</td>\n",
              "      <td>0</td>\n",
              "    </tr>\n",
              "    <tr>\n",
              "      <th>45926</th>\n",
              "      <td>7743068</td>\n",
              "      <td>3</td>\n",
              "      <td>68</td>\n",
              "      <td>M840</td>\n",
              "      <td>5</td>\n",
              "      <td>2017</td>\n",
              "      <td>3</td>\n",
              "      <td>0</td>\n",
              "      <td>2</td>\n",
              "      <td>0</td>\n",
              "      <td>0</td>\n",
              "      <td>0</td>\n",
              "      <td>0</td>\n",
              "    </tr>\n",
              "    <tr>\n",
              "      <th>45927</th>\n",
              "      <td>7743068</td>\n",
              "      <td>1</td>\n",
              "      <td>28</td>\n",
              "      <td>M840</td>\n",
              "      <td>1</td>\n",
              "      <td>2017</td>\n",
              "      <td>1</td>\n",
              "      <td>0</td>\n",
              "      <td>1</td>\n",
              "      <td>0</td>\n",
              "      <td>0</td>\n",
              "      <td>0</td>\n",
              "      <td>0</td>\n",
              "    </tr>\n",
              "    <tr>\n",
              "      <th>45928</th>\n",
              "      <td>7743068</td>\n",
              "      <td>1</td>\n",
              "      <td>24</td>\n",
              "      <td>M841</td>\n",
              "      <td>2</td>\n",
              "      <td>2017</td>\n",
              "      <td>1</td>\n",
              "      <td>0</td>\n",
              "      <td>2</td>\n",
              "      <td>0</td>\n",
              "      <td>0</td>\n",
              "      <td>0</td>\n",
              "      <td>0</td>\n",
              "    </tr>\n",
              "    <tr>\n",
              "      <th>45929</th>\n",
              "      <td>7743068</td>\n",
              "      <td>3</td>\n",
              "      <td>24</td>\n",
              "      <td>M841</td>\n",
              "      <td>7</td>\n",
              "      <td>2017</td>\n",
              "      <td>1</td>\n",
              "      <td>0</td>\n",
              "      <td>3</td>\n",
              "      <td>0</td>\n",
              "      <td>0</td>\n",
              "      <td>0</td>\n",
              "      <td>0</td>\n",
              "    </tr>\n",
              "  </tbody>\n",
              "</table>\n",
              "<p>45930 rows × 13 columns</p>\n",
              "</div>"
            ],
            "text/plain": [
              "          cnes  sexo  idade diag_princ  ...  uso_uti  obito  icc  ieh\n",
              "0      2338262     3     28       A049  ...        0      0    0    0\n",
              "1      2338262     1     38       F130  ...        1      1    0    0\n",
              "2      2338262     1     86       I743  ...        0      0    0    0\n",
              "3      2338262     3     60       K297  ...        0      0    0    0\n",
              "4      2338262     1     37       K810  ...        0      0    0    0\n",
              "...        ...   ...    ...        ...  ...      ...    ...  ...  ...\n",
              "45925  7743068     3     57       M840  ...        0      0    0    0\n",
              "45926  7743068     3     68       M840  ...        0      0    0    0\n",
              "45927  7743068     1     28       M840  ...        0      0    0    0\n",
              "45928  7743068     1     24       M841  ...        0      0    0    0\n",
              "45929  7743068     3     24       M841  ...        0      0    0    0\n",
              "\n",
              "[45930 rows x 13 columns]"
            ]
          },
          "metadata": {},
          "execution_count": 2
        }
      ]
    },
    {
      "cell_type": "code",
      "metadata": {
        "colab": {
          "base_uri": "https://localhost:8080/"
        },
        "id": "87SLTNUY6eR_",
        "outputId": "2f476d57-605e-4bfb-ad3b-eb3efca753fc"
      },
      "source": [
        "df['fxidade'].value_counts()"
      ],
      "execution_count": 3,
      "outputs": [
        {
          "output_type": "execute_result",
          "data": {
            "text/plain": [
              "1    24856\n",
              "2     7202\n",
              "3     6090\n",
              "4     4711\n",
              "5     2540\n",
              "6      531\n",
              "Name: fxidade, dtype: int64"
            ]
          },
          "metadata": {},
          "execution_count": 3
        }
      ]
    },
    {
      "cell_type": "markdown",
      "metadata": {
        "id": "yMmtDvbniolS"
      },
      "source": [
        "### Curva ROC\n",
        "\n",
        "Encontrando o melhor modelo dentro dos parâmentros da curva ROC, com a finalidade de executar a regressão logística."
      ]
    },
    {
      "cell_type": "code",
      "metadata": {
        "colab": {
          "base_uri": "https://localhost:8080/"
        },
        "id": "HxUvS_PVjAgY",
        "outputId": "86e202ef-5af2-4d65-a594-7eec80f8a847"
      },
      "source": [
        "modelo_0 = roc_auc_score(df.obito, df.sexo + df.fxidade)\n",
        "print('Modelo 0 AUC: %0.2f' % modelo_0)\n",
        "modelo_1 = roc_auc_score(df.obito, df.sexo + df.fxidade + df.cid50)\n",
        "print('Modelo 1 AUC: %0.2f' % modelo_1)\n",
        "modelo_2 = roc_auc_score(df.obito, df.sexo + df.fxidade + df.cid50 + df.ieh)\n",
        "print('Modelo 2 AUC: %0.2f' % modelo_2)\n",
        "modelo_3 = roc_auc_score(df.obito, df.sexo + df.fxidade + df.cid50 + df.ieh + df.icc)\n",
        "print('Modelo 3 AUC: %0.2f' % modelo_3)\n",
        "modelo_4 = roc_auc_score(df.obito, df.sexo + df.fxidade + df.cid50 + df.ieh + df.icc + df.permanencia)\n",
        "print('Modelo 4 AUC: %0.2f' % modelo_4)\n",
        "modelo_5 = roc_auc_score(df.obito, df.sexo + df.fxidade + df.cid50 + df.ieh + df.icc + df.permanencia + df.uso_uti)\n",
        "print('Modelo 5 AUC: %0.2f' % modelo_5)\n",
        "modelo_6 = roc_auc_score(df.obito, df.fxidade + df.cid50 + df.icc + df.ieh + df.permanencia + df.uso_uti)\n",
        "print('Modelo 6 AUC: %0.2f' % modelo_6)"
      ],
      "execution_count": 5,
      "outputs": [
        {
          "output_type": "stream",
          "name": "stdout",
          "text": [
            "Modelo 0 AUC: 0.69\n",
            "Modelo 1 AUC: 0.72\n",
            "Modelo 2 AUC: 0.72\n",
            "Modelo 3 AUC: 0.75\n",
            "Modelo 4 AUC: 0.73\n",
            "Modelo 5 AUC: 0.77\n",
            "Modelo 6 AUC: 0.78\n"
          ]
        }
      ]
    },
    {
      "cell_type": "code",
      "metadata": {
        "colab": {
          "base_uri": "https://localhost:8080/"
        },
        "id": "SV4M0VhKmAbL",
        "outputId": "0208a17f-b13f-4fb2-eaf2-a2ac9a8935f2"
      },
      "source": [
        "# Intervalo de confiança para o modelo 6\n",
        "intervalo_conf_ROC(df.obito, df.fxidade + df.cid50 + df.icc + df.ieh + df.permanencia + df.uso_uti)"
      ],
      "execution_count": 34,
      "outputs": [
        {
          "output_type": "execute_result",
          "data": {
            "text/plain": [
              "(0.7744343991335527, 0.793793387408718)"
            ]
          },
          "metadata": {},
          "execution_count": 34
        }
      ]
    },
    {
      "cell_type": "code",
      "metadata": {
        "id": "k-zOL_kYLJhD"
      },
      "source": [
        "# Plotar gráfico\n",
        "aleatorio = [0 for _ in range(len(df.obito))]\n",
        "h_fpr, h_tpr, _ = roc_curve(df.obito, aleatorio)\n",
        "\n",
        "a_fpr, a_tpr, _ = roc_curve(df.obito, df.sexo + df.fxidade)\n",
        "b_fpr, b_tpr, _ = roc_curve(df.obito, df.sexo + df.fxidade + df.cid50)\n",
        "c_fpr, c_tpr, _ = roc_curve(df.obito, df.sexo + df.fxidade + df.cid50 + df.ieh)\n",
        "d_fpr, d_tpr, _ = roc_curve(df.obito, df.sexo + df.fxidade + df.cid50 + df.ieh + df.icc)\n",
        "e_fpr, e_tpr, _ = roc_curve(df.obito, df.sexo + df.fxidade + df.cid50 + df.ieh + df.icc + df.permanencia)\n",
        "f_fpr, f_tpr, _ = roc_curve(df.obito, df.sexo + df.fxidade + df.cid50 + df.ieh + df.icc + df.permanencia + df.uso_uti)\n",
        "g_fpr, g_tpr, _ = roc_curve(df.obito, df.fxidade + df.cid50 + df.ieh + df.icc + df.permanencia + df.uso_uti)"
      ],
      "execution_count": 6,
      "outputs": []
    },
    {
      "cell_type": "code",
      "metadata": {
        "colab": {
          "base_uri": "https://localhost:8080/",
          "height": 497
        },
        "id": "uMx6GgqlInKG",
        "outputId": "a409a8ca-dbdc-47e6-8065-f40baedbfa5b"
      },
      "source": [
        "pyplot.plot(h_fpr, h_tpr, linestyle='--', label='' )\n",
        "\n",
        "pyplot.plot(a_fpr, a_tpr, marker='.', label='MODELO 0 (AUC: %0.2f)' % modelo_0)\n",
        "pyplot.plot(b_fpr, b_tpr, marker='.', label='MODELO 1 (AUC: %0.2f)' % modelo_1)\n",
        "pyplot.plot(c_fpr, c_tpr, marker='.', label='MODELO 2 (AUC: %0.2f)' % modelo_2)\n",
        "pyplot.plot(d_fpr, d_tpr, marker='.', label='MODELO 3 (AUC: %0.2f)' % modelo_3)\n",
        "pyplot.plot(e_fpr, e_tpr, marker='.', label='MODELO 4 (AUC: %0.2f)' % modelo_4)\n",
        "pyplot.plot(f_fpr, f_tpr, marker='.', label='MODELO 5 (AUC: %0.2f)' % modelo_5)\n",
        "pyplot.plot(g_fpr, g_tpr, marker='.', label='MODELO 6 (AUC: %0.2f)' % modelo_6)\n",
        "\n",
        "pyplot.xlabel('Taxa de falso positivo (Especificidade)')\n",
        "pyplot.ylabel('Taxa de verdadeiro positivo (Sensibilidade)')\n",
        "pyplot.legend()\n",
        "pyplot.rcParams['figure.figsize'] = [12, 8]\n",
        "\n",
        "pyplot.show()"
      ],
      "execution_count": 8,
      "outputs": [
        {
          "output_type": "display_data",
          "data": {
            "image/png": "[encoded data removed]",
            "text/plain": [
              "<Figure size 864x576 with 1 Axes>"
            ]
          },
          "metadata": {
            "needs_background": "light"
          }
        }
      ]
    },
    {
      "cell_type": "markdown",
      "metadata": {
        "id": "osajMx7Ckniu"
      },
      "source": [
        "Logo, o melhor modelo para aplicar a regressão logística é o modelo_6. Pois nela, saberamos os óbitos esperados."
      ]
    },
    {
      "cell_type": "code",
      "metadata": {
        "colab": {
          "base_uri": "https://localhost:8080/",
          "height": 142
        },
        "id": "kasTKOpzk3fX",
        "outputId": "875f2919-2cda-4286-a5db-dcc3015339b4"
      },
      "source": [
        "# Organizando as variáveis conforme o modelo 6\n",
        "dados = df[['fxidade', 'cid50', 'ieh', 'icc', 'permanencia', 'uso_uti']]\n",
        "dados.head(3)"
      ],
      "execution_count": 9,
      "outputs": [
        {
          "output_type": "execute_result",
          "data": {
            "text/html": [
              "<div>\n",
              "<style scoped>\n",
              "    .dataframe tbody tr th:only-of-type {\n",
              "        vertical-align: middle;\n",
              "    }\n",
              "\n",
              "    .dataframe tbody tr th {\n",
              "        vertical-align: top;\n",
              "    }\n",
              "\n",
              "    .dataframe thead th {\n",
              "        text-align: right;\n",
              "    }\n",
              "</style>\n",
              "<table border=\"1\" class=\"dataframe\">\n",
              "  <thead>\n",
              "    <tr style=\"text-align: right;\">\n",
              "      <th></th>\n",
              "      <th>fxidade</th>\n",
              "      <th>cid50</th>\n",
              "      <th>ieh</th>\n",
              "      <th>icc</th>\n",
              "      <th>permanencia</th>\n",
              "      <th>uso_uti</th>\n",
              "    </tr>\n",
              "  </thead>\n",
              "  <tbody>\n",
              "    <tr>\n",
              "      <th>0</th>\n",
              "      <td>1</td>\n",
              "      <td>0</td>\n",
              "      <td>0</td>\n",
              "      <td>0</td>\n",
              "      <td>2</td>\n",
              "      <td>0</td>\n",
              "    </tr>\n",
              "    <tr>\n",
              "      <th>1</th>\n",
              "      <td>1</td>\n",
              "      <td>0</td>\n",
              "      <td>0</td>\n",
              "      <td>0</td>\n",
              "      <td>4</td>\n",
              "      <td>1</td>\n",
              "    </tr>\n",
              "    <tr>\n",
              "      <th>2</th>\n",
              "      <td>5</td>\n",
              "      <td>0</td>\n",
              "      <td>0</td>\n",
              "      <td>0</td>\n",
              "      <td>3</td>\n",
              "      <td>0</td>\n",
              "    </tr>\n",
              "  </tbody>\n",
              "</table>\n",
              "</div>"
            ],
            "text/plain": [
              "   fxidade  cid50  ieh  icc  permanencia  uso_uti\n",
              "0        1      0    0    0            2        0\n",
              "1        1      0    0    0            4        1\n",
              "2        5      0    0    0            3        0"
            ]
          },
          "metadata": {},
          "execution_count": 9
        }
      ]
    },
    {
      "cell_type": "code",
      "metadata": {
        "colab": {
          "base_uri": "https://localhost:8080/"
        },
        "id": "pRTNDn_QleR2",
        "outputId": "7a418ff2-c359-46ac-ba7b-c67777930ce4"
      },
      "source": [
        "df['obito'].value_counts()"
      ],
      "execution_count": 10,
      "outputs": [
        {
          "output_type": "execute_result",
          "data": {
            "text/plain": [
              "0    42789\n",
              "1     3141\n",
              "Name: obito, dtype: int64"
            ]
          },
          "metadata": {},
          "execution_count": 10
        }
      ]
    },
    {
      "cell_type": "markdown",
      "metadata": {
        "id": "C8L1TiVnmS9j"
      },
      "source": [
        "# Aplicando a Regressão Logística"
      ]
    },
    {
      "cell_type": "code",
      "metadata": {
        "id": "jk5X1ej5mXuE"
      },
      "source": [
        "# Separando os Dados para teste e treino\n",
        "# Iremos trabalhar com os dados de treino para verificar o modelo de regressão com 0,7% dos dados separados\n",
        "y = df.obito\n",
        "X = pd.get_dummies(df[['fxidade', 'cid50', 'ieh', 'icc', 'permanencia', 'uso_uti']])\n",
        "X_train, X_test, y_train, y_test = train_test_split(X,y, test_size=0.3, random_state= 0)"
      ],
      "execution_count": 11,
      "outputs": []
    },
    {
      "cell_type": "code",
      "metadata": {
        "colab": {
          "base_uri": "https://localhost:8080/"
        },
        "id": "BiQ5Ut8unEWp",
        "outputId": "51bcb80c-163f-4ff0-e8c9-b8322ceed3b4"
      },
      "source": [
        "y_train.value_counts()"
      ],
      "execution_count": 12,
      "outputs": [
        {
          "output_type": "execute_result",
          "data": {
            "text/plain": [
              "0    29974\n",
              "1     2177\n",
              "Name: obito, dtype: int64"
            ]
          },
          "metadata": {},
          "execution_count": 12
        }
      ]
    },
    {
      "cell_type": "code",
      "metadata": {
        "id": "0j-7t4fNm6Gh"
      },
      "source": [
        "reg_logistica = LogisticRegression()\n",
        "reg_logistica.fit(X_train, y_train)\n",
        "y_predict = reg_logistica.predict(X_train)"
      ],
      "execution_count": 13,
      "outputs": []
    },
    {
      "cell_type": "code",
      "metadata": {
        "colab": {
          "base_uri": "https://localhost:8080/"
        },
        "id": "92XOlHYeOPNf",
        "outputId": "97fac21c-dca3-461a-e02c-80c388f055da"
      },
      "source": [
        "print('Coeficientes:', reg_logistica.coef_)\n",
        "print('Intercepto: %0.2f' %reg_logistica.intercept_)\n",
        "print('R-squared: %0.2f' %reg_logistica.score(X_train, y_train))\n",
        "print('Acurácia: %0.2f' %accuracy_score(y_train, reg_logistica.predict(X_train)))\n",
        "print('Erro: %0.2f' %sqrt(mean_squared_error(y_train, y_predict)))"
      ],
      "execution_count": 14,
      "outputs": [
        {
          "output_type": "stream",
          "name": "stdout",
          "text": [
            "Coeficientes: [[ 0.45770354  1.09244614  0.3561526   0.28421522 -0.35691218  2.90000178]]\n",
            "Intercepto: -4.08\n",
            "R-squared: 0.94\n",
            "Acurácia: 0.94\n",
            "Erro: 0.25\n"
          ]
        }
      ]
    },
    {
      "cell_type": "code",
      "metadata": {
        "colab": {
          "base_uri": "https://localhost:8080/"
        },
        "id": "1-64qa9DnPIb",
        "outputId": "3c251588-9417-481c-800b-0acf8b389ab9"
      },
      "source": [
        "print(classification_report(y_train, reg_logistica.predict(X_train)))"
      ],
      "execution_count": 15,
      "outputs": [
        {
          "output_type": "stream",
          "name": "stdout",
          "text": [
            "              precision    recall  f1-score   support\n",
            "\n",
            "           0       0.95      0.99      0.97     29974\n",
            "           1       0.59      0.24      0.34      2177\n",
            "\n",
            "    accuracy                           0.94     32151\n",
            "   macro avg       0.77      0.61      0.65     32151\n",
            "weighted avg       0.92      0.94      0.92     32151\n",
            "\n"
          ]
        }
      ]
    },
    {
      "cell_type": "code",
      "metadata": {
        "colab": {
          "base_uri": "https://localhost:8080/",
          "height": 142
        },
        "id": "Qpvv_05moTYm",
        "outputId": "7537784c-4de7-432c-a448-7935d881d6a6"
      },
      "source": [
        "# Matriz de confusão\n",
        "confusion_matrix = pd.crosstab(y_train, y_predict, rownames=['Actual'], colnames=['Predicted'])\n",
        "confusion_matrix"
      ],
      "execution_count": 16,
      "outputs": [
        {
          "output_type": "execute_result",
          "data": {
            "text/html": [
              "<div>\n",
              "<style scoped>\n",
              "    .dataframe tbody tr th:only-of-type {\n",
              "        vertical-align: middle;\n",
              "    }\n",
              "\n",
              "    .dataframe tbody tr th {\n",
              "        vertical-align: top;\n",
              "    }\n",
              "\n",
              "    .dataframe thead th {\n",
              "        text-align: right;\n",
              "    }\n",
              "</style>\n",
              "<table border=\"1\" class=\"dataframe\">\n",
              "  <thead>\n",
              "    <tr style=\"text-align: right;\">\n",
              "      <th>Predicted</th>\n",
              "      <th>0</th>\n",
              "      <th>1</th>\n",
              "    </tr>\n",
              "    <tr>\n",
              "      <th>Actual</th>\n",
              "      <th></th>\n",
              "      <th></th>\n",
              "    </tr>\n",
              "  </thead>\n",
              "  <tbody>\n",
              "    <tr>\n",
              "      <th>0</th>\n",
              "      <td>29610</td>\n",
              "      <td>364</td>\n",
              "    </tr>\n",
              "    <tr>\n",
              "      <th>1</th>\n",
              "      <td>1659</td>\n",
              "      <td>518</td>\n",
              "    </tr>\n",
              "  </tbody>\n",
              "</table>\n",
              "</div>"
            ],
            "text/plain": [
              "Predicted      0    1\n",
              "Actual               \n",
              "0          29610  364\n",
              "1           1659  518"
            ]
          },
          "metadata": {},
          "execution_count": 16
        }
      ]
    },
    {
      "cell_type": "code",
      "metadata": {
        "colab": {
          "base_uri": "https://localhost:8080/"
        },
        "id": "3QGmljMMof4H",
        "outputId": "f9be2225-511d-4b7a-daaa-dea98b966a0d"
      },
      "source": [
        "obito_esp = reg_logistica.predict_proba(X_train)[:,1]\n",
        "obito_esp"
      ],
      "execution_count": 17,
      "outputs": [
        {
          "output_type": "execute_result",
          "data": {
            "text/plain": [
              "array([0.15602353, 0.00906695, 0.01290568, ..., 0.01290568, 0.01833954,\n",
              "       0.01833954])"
            ]
          },
          "metadata": {},
          "execution_count": 17
        }
      ]
    },
    {
      "cell_type": "code",
      "metadata": {
        "colab": {
          "base_uri": "https://localhost:8080/"
        },
        "id": "xIErJPbR7lz7",
        "outputId": "50e38805-7cc2-4fdc-ffdd-a465a7ff4342"
      },
      "source": [
        "# Intervalo de Confiança - Curva ROC (depois da regressão)\n",
        "def intervalo_conf_ROC(y_true, y_score):\n",
        "    curva_roc = roc_auc_score(y_true, y_score)\n",
        "    qtd = sum(y_true == 1)\n",
        "    qtd_ = sum(y_true == 0)\n",
        "    x = curva_roc / (2 - curva_roc)\n",
        "    y = 2*curva_roc**2 / (1 + curva_roc)\n",
        "    RQ = sqrt((curva_roc*(1 - curva_roc) + (qtd - 1)*(x - curva_roc**2) + (qtd_ - 1)*(y - curva_roc**2)) / (qtd*qtd_))\n",
        "    lower = curva_roc - 1.96*RQ\n",
        "    upper = curva_roc + 1.96*RQ\n",
        "\n",
        "    return (lower, upper)\n",
        "intervalo_conf_ROC(y_train, obito_esp)"
      ],
      "execution_count": 18,
      "outputs": [
        {
          "output_type": "execute_result",
          "data": {
            "text/plain": [
              "(0.8727447390074485, 0.8914448745357422)"
            ]
          },
          "metadata": {},
          "execution_count": 18
        }
      ]
    },
    {
      "cell_type": "code",
      "metadata": {
        "id": "yiaRF90zOCks",
        "colab": {
          "base_uri": "https://localhost:8080/",
          "height": 497
        },
        "outputId": "b8174f66-0cd8-4c72-b428-55a8766d1f27"
      },
      "source": [
        "def pyplot_plot(y_true, y_score):\n",
        "  fpr, tpr, _ = roc_curve(y_true, y_score)\n",
        "  pyplot.rcParams['figure.figsize'] = [11, 7]\n",
        "  curve = roc_auc_score(y_true, y_score)\n",
        "  pyplot.plot(fpr, tpr, color='red', label='ROC curve (AUC %0.2f)' % curve)\n",
        "  pyplot.plot(h_fpr, h_tpr, linestyle='--', label='' )\n",
        "  pyplot.xlabel('Falso positivo (Especificidade)') \n",
        "  pyplot.ylabel('Verdadeiro positivo (Sensibilidade)')\n",
        "  pyplot.legend()\n",
        "  pyplot.show()\n",
        "\n",
        "pyplot_plot(y_train, obito_esp)"
      ],
      "execution_count": 19,
      "outputs": [
        {
          "output_type": "display_data",
          "data": {
            "image/png": "[encoded data removed]",
            "text/plain": [
              "<Figure size 864x576 with 1 Axes>"
            ]
          },
          "metadata": {
            "needs_background": "light"
          }
        }
      ]
    },
    {
      "cell_type": "markdown",
      "metadata": {
        "id": "NfpwqLlRtUSF"
      },
      "source": [
        "# Testando o modelo para o banco de dados inteiro"
      ]
    },
    {
      "cell_type": "code",
      "metadata": {
        "colab": {
          "base_uri": "https://localhost:8080/"
        },
        "id": "WTnz370ItZJ8",
        "outputId": "b7bf0a4a-dd53-40d7-fbe4-ec1d7aecd3b8"
      },
      "source": [
        "dados_1 = reg_logistica.predict_proba(dados)[:,1]\n",
        "print('Somatório dos óbitos esperados %0.0f' % dados_1.sum())"
      ],
      "execution_count": 20,
      "outputs": [
        {
          "output_type": "stream",
          "name": "stdout",
          "text": [
            "Somatório dos óbitos esperados 3109\n"
          ]
        }
      ]
    },
    {
      "cell_type": "code",
      "metadata": {
        "colab": {
          "base_uri": "https://localhost:8080/"
        },
        "id": "qhLNxKf8vbTU",
        "outputId": "c1353289-0385-4d29-8a8e-34273b0f0d7a"
      },
      "source": [
        "# óbitos observados (óbito = 1 e não óbito = 0)\n",
        "df['obito'].value_counts()"
      ],
      "execution_count": 21,
      "outputs": [
        {
          "output_type": "execute_result",
          "data": {
            "text/plain": [
              "0    42789\n",
              "1     3141\n",
              "Name: obito, dtype: int64"
            ]
          },
          "metadata": {},
          "execution_count": 21
        }
      ]
    },
    {
      "cell_type": "code",
      "metadata": {
        "colab": {
          "base_uri": "https://localhost:8080/"
        },
        "id": "8SQN1P8SvmKi",
        "outputId": "82b65f3e-a06e-4fca-a50d-18d04e243a85"
      },
      "source": [
        "# Calculando a taxa, somatória dos obitos observados / somatória dos óbitos esperados\n",
        "Razao = 3141 / 3109\n",
        "print('Obtivemos uma taxa de assistência hospitalar de %0.2f' % Razao)"
      ],
      "execution_count": 22,
      "outputs": [
        {
          "output_type": "stream",
          "name": "stdout",
          "text": [
            "Obtivemos uma taxa de assistência hospitalar de 1.01\n"
          ]
        }
      ]
    },
    {
      "cell_type": "markdown",
      "metadata": {
        "id": "Rz6jNTiUR4K5"
      },
      "source": [
        "Usando o modelo da regressão logística já treinado, obtivemos com exatidão por meio da função (predict_proba), cujo comando calcula a chance de cada individuo morrer com tais parâmetros aplicados. Para saber o número esperado de morte, é a somatória das probabilidades preditas."
      ]
    },
    {
      "cell_type": "markdown",
      "metadata": {
        "id": "vVvvaDo50I0O"
      },
      "source": [
        "# Série Histórica (2014 - 2020)"
      ]
    },
    {
      "cell_type": "code",
      "metadata": {
        "colab": {
          "base_uri": "https://localhost:8080/",
          "height": 204
        },
        "id": "b8fy08gr0Qa4",
        "outputId": "31d76130-5ad1-4bac-a795-f1e079ad7847"
      },
      "source": [
        "dataset = pd.read_csv('https://raw.githubusercontent.com/carlos-souza-blip/RMHP/main/rmhp_selecao_GO_SH.csv', sep=\",\")\n",
        "dataset.head(5)"
      ],
      "execution_count": 23,
      "outputs": [
        {
          "output_type": "execute_result",
          "data": {
            "text/html": [
              "<div>\n",
              "<style scoped>\n",
              "    .dataframe tbody tr th:only-of-type {\n",
              "        vertical-align: middle;\n",
              "    }\n",
              "\n",
              "    .dataframe tbody tr th {\n",
              "        vertical-align: top;\n",
              "    }\n",
              "\n",
              "    .dataframe thead th {\n",
              "        text-align: right;\n",
              "    }\n",
              "</style>\n",
              "<table border=\"1\" class=\"dataframe\">\n",
              "  <thead>\n",
              "    <tr style=\"text-align: right;\">\n",
              "      <th></th>\n",
              "      <th>cnes</th>\n",
              "      <th>sexo</th>\n",
              "      <th>idade</th>\n",
              "      <th>diag_princ</th>\n",
              "      <th>dias_perm</th>\n",
              "      <th>ano</th>\n",
              "      <th>fxidade</th>\n",
              "      <th>cid50</th>\n",
              "      <th>permanencia</th>\n",
              "      <th>uso_uti</th>\n",
              "      <th>obito</th>\n",
              "      <th>icc</th>\n",
              "      <th>ieh</th>\n",
              "    </tr>\n",
              "  </thead>\n",
              "  <tbody>\n",
              "    <tr>\n",
              "      <th>0</th>\n",
              "      <td>2338262</td>\n",
              "      <td>3</td>\n",
              "      <td>75</td>\n",
              "      <td>A318</td>\n",
              "      <td>4</td>\n",
              "      <td>2014</td>\n",
              "      <td>4</td>\n",
              "      <td>1</td>\n",
              "      <td>2</td>\n",
              "      <td>0</td>\n",
              "      <td>0</td>\n",
              "      <td>0</td>\n",
              "      <td>0</td>\n",
              "    </tr>\n",
              "    <tr>\n",
              "      <th>1</th>\n",
              "      <td>2338262</td>\n",
              "      <td>1</td>\n",
              "      <td>40</td>\n",
              "      <td>A480</td>\n",
              "      <td>1</td>\n",
              "      <td>2014</td>\n",
              "      <td>1</td>\n",
              "      <td>0</td>\n",
              "      <td>1</td>\n",
              "      <td>0</td>\n",
              "      <td>0</td>\n",
              "      <td>0</td>\n",
              "      <td>0</td>\n",
              "    </tr>\n",
              "    <tr>\n",
              "      <th>2</th>\n",
              "      <td>2338262</td>\n",
              "      <td>1</td>\n",
              "      <td>76</td>\n",
              "      <td>B873</td>\n",
              "      <td>3</td>\n",
              "      <td>2014</td>\n",
              "      <td>4</td>\n",
              "      <td>0</td>\n",
              "      <td>2</td>\n",
              "      <td>0</td>\n",
              "      <td>0</td>\n",
              "      <td>0</td>\n",
              "      <td>0</td>\n",
              "    </tr>\n",
              "    <tr>\n",
              "      <th>3</th>\n",
              "      <td>2338262</td>\n",
              "      <td>3</td>\n",
              "      <td>30</td>\n",
              "      <td>A419</td>\n",
              "      <td>11</td>\n",
              "      <td>2014</td>\n",
              "      <td>1</td>\n",
              "      <td>1</td>\n",
              "      <td>4</td>\n",
              "      <td>0</td>\n",
              "      <td>0</td>\n",
              "      <td>0</td>\n",
              "      <td>0</td>\n",
              "    </tr>\n",
              "    <tr>\n",
              "      <th>4</th>\n",
              "      <td>2338262</td>\n",
              "      <td>1</td>\n",
              "      <td>38</td>\n",
              "      <td>A480</td>\n",
              "      <td>3</td>\n",
              "      <td>2014</td>\n",
              "      <td>1</td>\n",
              "      <td>0</td>\n",
              "      <td>2</td>\n",
              "      <td>0</td>\n",
              "      <td>0</td>\n",
              "      <td>0</td>\n",
              "      <td>0</td>\n",
              "    </tr>\n",
              "  </tbody>\n",
              "</table>\n",
              "</div>"
            ],
            "text/plain": [
              "      cnes  sexo  idade diag_princ  ...  uso_uti  obito  icc  ieh\n",
              "0  2338262     3     75       A318  ...        0      0    0    0\n",
              "1  2338262     1     40       A480  ...        0      0    0    0\n",
              "2  2338262     1     76       B873  ...        0      0    0    0\n",
              "3  2338262     3     30       A419  ...        0      0    0    0\n",
              "4  2338262     1     38       A480  ...        0      0    0    0\n",
              "\n",
              "[5 rows x 13 columns]"
            ]
          },
          "metadata": {},
          "execution_count": 23
        }
      ]
    },
    {
      "cell_type": "code",
      "metadata": {
        "id": "8k6rzW2S5yua"
      },
      "source": [
        "# Salvar a base de dados\n",
        "#dataset.to_csv('rmhp_selecao_GO_SH.csv')"
      ],
      "execution_count": null,
      "outputs": []
    },
    {
      "cell_type": "code",
      "metadata": {
        "id": "MOACAdw00vbF"
      },
      "source": [
        "# Separado os anos;\n",
        "# Aplicando o modelo 6, segundo a curva ROC.\n",
        "sh14 = dataset.loc[dataset['ano'] == 2014]\n",
        "sh14 = sh14[['fxidade', 'cid50', 'ieh', 'icc', 'permanencia', 'uso_uti']]\n",
        "sh15 = dataset.loc[dataset['ano'] == 2015]\n",
        "sh15 = sh15[['fxidade', 'cid50', 'ieh', 'icc', 'permanencia', 'uso_uti']]\n",
        "sh16 = dataset.loc[dataset['ano'] == 2016]\n",
        "sh16 = sh16[['fxidade', 'cid50', 'ieh', 'icc', 'permanencia', 'uso_uti']]\n",
        "sh17 = dataset.loc[dataset['ano'] == 2017]\n",
        "sh17 = sh17[['fxidade', 'cid50', 'ieh', 'icc', 'permanencia', 'uso_uti']]\n",
        "sh18 = dataset.loc[dataset['ano'] == 2018]\n",
        "sh18 = sh18[['fxidade', 'cid50', 'ieh', 'icc', 'permanencia', 'uso_uti']]\n",
        "sh19 = dataset.loc[dataset['ano'] == 2019]\n",
        "sh19 = sh19[['fxidade', 'cid50', 'ieh', 'icc', 'permanencia', 'uso_uti']]\n",
        "sh20 = dataset.loc[dataset['ano'] == 2020]\n",
        "sh20 = sh20[['fxidade', 'cid50', 'ieh', 'icc', 'permanencia', 'uso_uti']]"
      ],
      "execution_count": 25,
      "outputs": []
    },
    {
      "cell_type": "code",
      "metadata": {
        "colab": {
          "base_uri": "https://localhost:8080/"
        },
        "id": "MWxm4tyg7lfi",
        "outputId": "ff9402fe-e4ff-4d7a-c990-3b947cb592f4"
      },
      "source": [
        "# Tabela de Contigência 2x2\n",
        "dataset.groupby('ano')['obito'].value_counts() "
      ],
      "execution_count": 26,
      "outputs": [
        {
          "output_type": "execute_result",
          "data": {
            "text/plain": [
              "ano   obito\n",
              "2014  0        33295\n",
              "      1         2387\n",
              "2015  0        36886\n",
              "      1         2707\n",
              "2016  0        38934\n",
              "      1         3045\n",
              "2017  0        42789\n",
              "      1         3141\n",
              "2018  0        48512\n",
              "      1         3440\n",
              "2019  0        51536\n",
              "      1         3817\n",
              "2020  0        42443\n",
              "      1         3728\n",
              "Name: obito, dtype: int64"
            ]
          },
          "metadata": {},
          "execution_count": 26
        }
      ]
    },
    {
      "cell_type": "code",
      "metadata": {
        "colab": {
          "base_uri": "https://localhost:8080/"
        },
        "id": "UV-YRX_26ogu",
        "outputId": "0213a71a-a0b0-4ae6-9fcd-51688db198cb"
      },
      "source": [
        "sh14_ = reg_logistica.predict_proba(sh14)[:,1]\n",
        "print('Somatória dos óbitos esperados %0.0f' % sh14_.sum(), 'em 2014.')\n",
        "sh15_ = reg_logistica.predict_proba(sh15)[:,1]\n",
        "print('Somatória dos óbitos esperados %0.0f' % sh15_.sum(), 'em 2015.')\n",
        "sh16_ = reg_logistica.predict_proba(sh16)[:,1]\n",
        "print('Somatória dos óbitos esperados %0.0f' % sh16_.sum(), 'em 2016.')\n",
        "sh17_ = reg_logistica.predict_proba(sh17)[:,1]\n",
        "print('Somatória dos óbitos esperados %0.0f' % sh17_.sum(), 'em 2017.')\n",
        "sh18_ = reg_logistica.predict_proba(sh18)[:,1]\n",
        "print('Somatória dos óbitos esperados %0.0f' % sh18_.sum(), 'em 2018.')\n",
        "sh19_ = reg_logistica.predict_proba(sh19)[:,1]\n",
        "print('Somatória dos óbitos esperados %0.0f' % sh19_.sum(), 'em 2019.')\n",
        "sh20_ = reg_logistica.predict_proba(sh20)[:,1]\n",
        "print('Somatória dos óbitos esperados %0.0f' % sh20_.sum(), 'em 2020.')"
      ],
      "execution_count": 27,
      "outputs": [
        {
          "output_type": "stream",
          "name": "stdout",
          "text": [
            "Somatória dos óbitos esperados 2170 em 2014.\n",
            "Somatória dos óbitos esperados 2449 em 2015.\n",
            "Somatória dos óbitos esperados 2752 em 2016.\n",
            "Somatória dos óbitos esperados 3109 em 2017.\n",
            "Somatória dos óbitos esperados 3795 em 2018.\n",
            "Somatória dos óbitos esperados 4192 em 2019.\n",
            "Somatória dos óbitos esperados 3550 em 2020.\n"
          ]
        }
      ]
    },
    {
      "cell_type": "code",
      "metadata": {
        "colab": {
          "base_uri": "https://localhost:8080/"
        },
        "id": "FonYc9Y07UDs",
        "outputId": "c814323e-8695-4e4b-ae6d-212de7be9f17"
      },
      "source": [
        "razao14 = 2387 / 2170\n",
        "print('Obtivemos uma taxa de assistência hospitalar em 2014 de %0.2f' % razao14)\n",
        "razao15 = 2707 / 2449\n",
        "print('Obtivemos uma taxa de assistência hospitalar em 2015 de %0.2f' % razao15)\n",
        "razao16 = 3045 / 2752\n",
        "print('Obtivemos uma taxa de assistência hospitalar em 2016 de %0.2f' % razao16)\n",
        "razao17 = 3141 / 3109\n",
        "print('Obtivemos uma taxa de assistência hospitalar em 2017 de %0.2f' % razao17)\n",
        "razao18 = 3440 / 3795\n",
        "print('Obtivemos uma taxa de assistência hospitalar em 2018 de %0.2f' % razao18)\n",
        "razao19 = 3817 / 4192\n",
        "print('Obtivemos uma taxa de assistência hospitalar em 2019 de %0.2f' % razao19)\n",
        "razao20 = 3728 / 3550\n",
        "print('Obtivemos uma taxa de assistência hospitalar em 2020 de %0.2f' % razao20)"
      ],
      "execution_count": 28,
      "outputs": [
        {
          "output_type": "stream",
          "name": "stdout",
          "text": [
            "Obtivemos uma taxa de assistência hospitalar em 2014 de 1.10\n",
            "Obtivemos uma taxa de assistência hospitalar em 2015 de 1.11\n",
            "Obtivemos uma taxa de assistência hospitalar em 2016 de 1.11\n",
            "Obtivemos uma taxa de assistência hospitalar em 2017 de 1.01\n",
            "Obtivemos uma taxa de assistência hospitalar em 2018 de 0.91\n",
            "Obtivemos uma taxa de assistência hospitalar em 2019 de 0.91\n",
            "Obtivemos uma taxa de assistência hospitalar em 2020 de 1.05\n"
          ]
        }
      ]
    },
    {
      "cell_type": "code",
      "metadata": {
        "id": "6O_-u-3hCfrC"
      },
      "source": [
        "taxa = [1.10, 1.08, 1.08, 1.00, 0.92, 0.93, 1.08]\n",
        "ano = [2014, 2015, 2016, 2017, 2018, 2019, 2020]\n",
        "linha = [1, 1, 1, 1, 1, 1, 1]"
      ],
      "execution_count": 29,
      "outputs": []
    },
    {
      "cell_type": "code",
      "metadata": {
        "colab": {
          "base_uri": "https://localhost:8080/",
          "height": 542
        },
        "id": "3aJ77uT0e9Wj",
        "outputId": "1fc647f6-12a6-4c38-e322-1a7f6a22c63a"
      },
      "source": [
        "# Plotar gráfico interativo\n",
        "import plotly.express as px\n",
        "import plotly.graph_objects as go\n",
        "import plotly.offline as py\n",
        "\n",
        "trace = go.Scatter(x = ano, y = linha, mode = \"lines\", name = \"RMHP\",\n",
        "                    marker = dict(color = 'blue'), text= \"Margem\")\n",
        "\n",
        "trace1 = go.Scatter(x = ano, y = taxa, mode = \"lines+markers\", name = \"Taxa RMHP\",\n",
        "                    marker = dict(color = 'rgba(16, 112, 2, 0.8)'))\n",
        "\n",
        "data = [trace, trace1]\n",
        "\n",
        "layout = dict(title = 'RMHP - Série Histórica, período: 2014 - 2020',\n",
        "              xaxis= dict( title = 'ANO', ticklen=30, zeroline= False),\n",
        "              yaxis = dict(title = 'Taxa', ticklen=30, zeroline= False ))\n",
        "\n",
        "fig = dict(data = data, layout = layout)\n",
        "\n",
        "py.iplot(fig)"
      ],
      "execution_count": 30,
      "outputs": [
        {
          "output_type": "display_data",
          "data": {
            "text/html": [
              "<html>\n",
              "<head><meta charset=\"utf-8\" /></head>\n",
              "<body>\n",
              "    <div>\n",
              "            <script src=\"https://cdnjs.cloudflare.com/ajax/libs/mathjax/2.7.5/MathJax.js?config=TeX-AMS-MML_SVG\"></script><script type=\"text/javascript\">if (window.MathJax) {MathJax.Hub.Config({SVG: {font: \"STIX-Web\"}});}</script>\n",
              "                <script type=\"text/javascript\">window.PlotlyConfig = {MathJaxConfig: 'local'};</script>\n",
              "        <script src=\"https://cdn.plot.ly/plotly-latest.min.js\"></script>    \n",
              "            <div id=\"714519d0-f4ec-478b-8e28-66dac9f1a1c4\" class=\"plotly-graph-div\" style=\"height:525px; width:100%;\"></div>\n",
              "            <script type=\"text/javascript\">\n",
              "                \n",
              "                    window.PLOTLYENV=window.PLOTLYENV || {};\n",
              "                    \n",
              "                if (document.getElementById(\"714519d0-f4ec-478b-8e28-66dac9f1a1c4\")) {\n",
              "                    Plotly.newPlot(\n",
              "                        '714519d0-f4ec-478b-8e28-66dac9f1a1c4',\n",
              "                        [{\"marker\": {\"color\": \"blue\"}, \"mode\": \"lines\", \"name\": \"RMHP\", \"text\": \"Margem\", \"type\": \"scatter\", \"x\": [2014, 2015, 2016, 2017, 2018, 2019, 2020], \"y\": [1, 1, 1, 1, 1, 1, 1]}, {\"marker\": {\"color\": \"rgba(16, 112, 2, 0.8)\"}, \"mode\": \"lines+markers\", \"name\": \"Taxa RMHP\", \"type\": \"scatter\", \"x\": [2014, 2015, 2016, 2017, 2018, 2019, 2020], \"y\": [1.1, 1.08, 1.08, 1.0, 0.92, 0.93, 1.08]}],\n",
              "                        {\"template\": {\"data\": {\"bar\": [{\"error_x\": {\"color\": \"#2a3f5f\"}, \"error_y\": {\"color\": \"#2a3f5f\"}, \"marker\": {\"line\": {\"color\": \"#E5ECF6\", \"width\": 0.5}}, \"type\": \"bar\"}], \"barpolar\": [{\"marker\": {\"line\": {\"color\": \"#E5ECF6\", \"width\": 0.5}}, \"type\": \"barpolar\"}], \"carpet\": [{\"aaxis\": {\"endlinecolor\": \"#2a3f5f\", \"gridcolor\": \"white\", \"linecolor\": \"white\", \"minorgridcolor\": \"white\", \"startlinecolor\": \"#2a3f5f\"}, \"baxis\": {\"endlinecolor\": \"#2a3f5f\", \"gridcolor\": \"white\", \"linecolor\": \"white\", \"minorgridcolor\": \"white\", \"startlinecolor\": \"#2a3f5f\"}, \"type\": \"carpet\"}], \"choropleth\": [{\"colorbar\": {\"outlinewidth\": 0, \"ticks\": \"\"}, \"type\": \"choropleth\"}], \"contour\": [{\"colorbar\": {\"outlinewidth\": 0, \"ticks\": \"\"}, \"colorscale\": [[0.0, \"#0d0887\"], [0.1111111111111111, \"#46039f\"], [0.2222222222222222, \"#7201a8\"], [0.3333333333333333, \"#9c179e\"], [0.4444444444444444, \"#bd3786\"], [0.5555555555555556, \"#d8576b\"], [0.6666666666666666, \"#ed7953\"], [0.7777777777777778, \"#fb9f3a\"], [0.8888888888888888, \"#fdca26\"], [1.0, \"#f0f921\"]], \"type\": \"contour\"}], \"contourcarpet\": [{\"colorbar\": {\"outlinewidth\": 0, \"ticks\": \"\"}, \"type\": \"contourcarpet\"}], \"heatmap\": [{\"colorbar\": {\"outlinewidth\": 0, \"ticks\": \"\"}, \"colorscale\": [[0.0, \"#0d0887\"], [0.1111111111111111, \"#46039f\"], [0.2222222222222222, \"#7201a8\"], [0.3333333333333333, \"#9c179e\"], [0.4444444444444444, \"#bd3786\"], [0.5555555555555556, \"#d8576b\"], [0.6666666666666666, \"#ed7953\"], [0.7777777777777778, \"#fb9f3a\"], [0.8888888888888888, \"#fdca26\"], [1.0, \"#f0f921\"]], \"type\": \"heatmap\"}], \"heatmapgl\": [{\"colorbar\": {\"outlinewidth\": 0, \"ticks\": \"\"}, \"colorscale\": [[0.0, \"#0d0887\"], [0.1111111111111111, \"#46039f\"], [0.2222222222222222, \"#7201a8\"], [0.3333333333333333, \"#9c179e\"], [0.4444444444444444, \"#bd3786\"], [0.5555555555555556, \"#d8576b\"], [0.6666666666666666, \"#ed7953\"], [0.7777777777777778, \"#fb9f3a\"], [0.8888888888888888, \"#fdca26\"], [1.0, \"#f0f921\"]], \"type\": \"heatmapgl\"}], \"histogram\": [{\"marker\": {\"colorbar\": {\"outlinewidth\": 0, \"ticks\": \"\"}}, \"type\": \"histogram\"}], \"histogram2d\": [{\"colorbar\": {\"outlinewidth\": 0, \"ticks\": \"\"}, \"colorscale\": [[0.0, \"#0d0887\"], [0.1111111111111111, \"#46039f\"], [0.2222222222222222, \"#7201a8\"], [0.3333333333333333, \"#9c179e\"], [0.4444444444444444, \"#bd3786\"], [0.5555555555555556, \"#d8576b\"], [0.6666666666666666, \"#ed7953\"], [0.7777777777777778, \"#fb9f3a\"], [0.8888888888888888, \"#fdca26\"], [1.0, \"#f0f921\"]], \"type\": \"histogram2d\"}], \"histogram2dcontour\": [{\"colorbar\": {\"outlinewidth\": 0, \"ticks\": \"\"}, \"colorscale\": [[0.0, \"#0d0887\"], [0.1111111111111111, \"#46039f\"], [0.2222222222222222, \"#7201a8\"], [0.3333333333333333, \"#9c179e\"], [0.4444444444444444, \"#bd3786\"], [0.5555555555555556, \"#d8576b\"], [0.6666666666666666, \"#ed7953\"], [0.7777777777777778, \"#fb9f3a\"], [0.8888888888888888, \"#fdca26\"], [1.0, \"#f0f921\"]], \"type\": \"histogram2dcontour\"}], \"mesh3d\": [{\"colorbar\": {\"outlinewidth\": 0, \"ticks\": \"\"}, \"type\": \"mesh3d\"}], \"parcoords\": [{\"line\": {\"colorbar\": {\"outlinewidth\": 0, \"ticks\": \"\"}}, \"type\": \"parcoords\"}], \"pie\": [{\"automargin\": true, \"type\": \"pie\"}], \"scatter\": [{\"marker\": {\"colorbar\": {\"outlinewidth\": 0, \"ticks\": \"\"}}, \"type\": \"scatter\"}], \"scatter3d\": [{\"line\": {\"colorbar\": {\"outlinewidth\": 0, \"ticks\": \"\"}}, \"marker\": {\"colorbar\": {\"outlinewidth\": 0, \"ticks\": \"\"}}, \"type\": \"scatter3d\"}], \"scattercarpet\": [{\"marker\": {\"colorbar\": {\"outlinewidth\": 0, \"ticks\": \"\"}}, \"type\": \"scattercarpet\"}], \"scattergeo\": [{\"marker\": {\"colorbar\": {\"outlinewidth\": 0, \"ticks\": \"\"}}, \"type\": \"scattergeo\"}], \"scattergl\": [{\"marker\": {\"colorbar\": {\"outlinewidth\": 0, \"ticks\": \"\"}}, \"type\": \"scattergl\"}], \"scattermapbox\": [{\"marker\": {\"colorbar\": {\"outlinewidth\": 0, \"ticks\": \"\"}}, \"type\": \"scattermapbox\"}], \"scatterpolar\": [{\"marker\": {\"colorbar\": {\"outlinewidth\": 0, \"ticks\": \"\"}}, \"type\": \"scatterpolar\"}], \"scatterpolargl\": [{\"marker\": {\"colorbar\": {\"outlinewidth\": 0, \"ticks\": \"\"}}, \"type\": \"scatterpolargl\"}], \"scatterternary\": [{\"marker\": {\"colorbar\": {\"outlinewidth\": 0, \"ticks\": \"\"}}, \"type\": \"scatterternary\"}], \"surface\": [{\"colorbar\": {\"outlinewidth\": 0, \"ticks\": \"\"}, \"colorscale\": [[0.0, \"#0d0887\"], [0.1111111111111111, \"#46039f\"], [0.2222222222222222, \"#7201a8\"], [0.3333333333333333, \"#9c179e\"], [0.4444444444444444, \"#bd3786\"], [0.5555555555555556, \"#d8576b\"], [0.6666666666666666, \"#ed7953\"], [0.7777777777777778, \"#fb9f3a\"], [0.8888888888888888, \"#fdca26\"], [1.0, \"#f0f921\"]], \"type\": \"surface\"}], \"table\": [{\"cells\": {\"fill\": {\"color\": \"#EBF0F8\"}, \"line\": {\"color\": \"white\"}}, \"header\": {\"fill\": {\"color\": \"#C8D4E3\"}, \"line\": {\"color\": \"white\"}}, \"type\": \"table\"}]}, \"layout\": {\"annotationdefaults\": {\"arrowcolor\": \"#2a3f5f\", \"arrowhead\": 0, \"arrowwidth\": 1}, \"coloraxis\": {\"colorbar\": {\"outlinewidth\": 0, \"ticks\": \"\"}}, \"colorscale\": {\"diverging\": [[0, \"#8e0152\"], [0.1, \"#c51b7d\"], [0.2, \"#de77ae\"], [0.3, \"#f1b6da\"], [0.4, \"#fde0ef\"], [0.5, \"#f7f7f7\"], [0.6, \"#e6f5d0\"], [0.7, \"#b8e186\"], [0.8, \"#7fbc41\"], [0.9, \"#4d9221\"], [1, \"#276419\"]], \"sequential\": [[0.0, \"#0d0887\"], [0.1111111111111111, \"#46039f\"], [0.2222222222222222, \"#7201a8\"], [0.3333333333333333, \"#9c179e\"], [0.4444444444444444, \"#bd3786\"], [0.5555555555555556, \"#d8576b\"], [0.6666666666666666, \"#ed7953\"], [0.7777777777777778, \"#fb9f3a\"], [0.8888888888888888, \"#fdca26\"], [1.0, \"#f0f921\"]], \"sequentialminus\": [[0.0, \"#0d0887\"], [0.1111111111111111, \"#46039f\"], [0.2222222222222222, \"#7201a8\"], [0.3333333333333333, \"#9c179e\"], [0.4444444444444444, \"#bd3786\"], [0.5555555555555556, \"#d8576b\"], [0.6666666666666666, \"#ed7953\"], [0.7777777777777778, \"#fb9f3a\"], [0.8888888888888888, \"#fdca26\"], [1.0, \"#f0f921\"]]}, \"colorway\": [\"#636efa\", \"#EF553B\", \"#00cc96\", \"#ab63fa\", \"#FFA15A\", \"#19d3f3\", \"#FF6692\", \"#B6E880\", \"#FF97FF\", \"#FECB52\"], \"font\": {\"color\": \"#2a3f5f\"}, \"geo\": {\"bgcolor\": \"white\", \"lakecolor\": \"white\", \"landcolor\": \"#E5ECF6\", \"showlakes\": true, \"showland\": true, \"subunitcolor\": \"white\"}, \"hoverlabel\": {\"align\": \"left\"}, \"hovermode\": \"closest\", \"mapbox\": {\"style\": \"light\"}, \"paper_bgcolor\": \"white\", \"plot_bgcolor\": \"#E5ECF6\", \"polar\": {\"angularaxis\": {\"gridcolor\": \"white\", \"linecolor\": \"white\", \"ticks\": \"\"}, \"bgcolor\": \"#E5ECF6\", \"radialaxis\": {\"gridcolor\": \"white\", \"linecolor\": \"white\", \"ticks\": \"\"}}, \"scene\": {\"xaxis\": {\"backgroundcolor\": \"#E5ECF6\", \"gridcolor\": \"white\", \"gridwidth\": 2, \"linecolor\": \"white\", \"showbackground\": true, \"ticks\": \"\", \"zerolinecolor\": \"white\"}, \"yaxis\": {\"backgroundcolor\": \"#E5ECF6\", \"gridcolor\": \"white\", \"gridwidth\": 2, \"linecolor\": \"white\", \"showbackground\": true, \"ticks\": \"\", \"zerolinecolor\": \"white\"}, \"zaxis\": {\"backgroundcolor\": \"#E5ECF6\", \"gridcolor\": \"white\", \"gridwidth\": 2, \"linecolor\": \"white\", \"showbackground\": true, \"ticks\": \"\", \"zerolinecolor\": \"white\"}}, \"shapedefaults\": {\"line\": {\"color\": \"#2a3f5f\"}}, \"ternary\": {\"aaxis\": {\"gridcolor\": \"white\", \"linecolor\": \"white\", \"ticks\": \"\"}, \"baxis\": {\"gridcolor\": \"white\", \"linecolor\": \"white\", \"ticks\": \"\"}, \"bgcolor\": \"#E5ECF6\", \"caxis\": {\"gridcolor\": \"white\", \"linecolor\": \"white\", \"ticks\": \"\"}}, \"title\": {\"x\": 0.05}, \"xaxis\": {\"automargin\": true, \"gridcolor\": \"white\", \"linecolor\": \"white\", \"ticks\": \"\", \"title\": {\"standoff\": 15}, \"zerolinecolor\": \"white\", \"zerolinewidth\": 2}, \"yaxis\": {\"automargin\": true, \"gridcolor\": \"white\", \"linecolor\": \"white\", \"ticks\": \"\", \"title\": {\"standoff\": 15}, \"zerolinecolor\": \"white\", \"zerolinewidth\": 2}}}, \"title\": {\"text\": \"RMHP - S\\u00e9rie Hist\\u00f3rica, per\\u00edodo: 2014 - 2020\"}, \"xaxis\": {\"ticklen\": 30, \"title\": {\"text\": \"ANO\"}, \"zeroline\": false}, \"yaxis\": {\"ticklen\": 30, \"title\": {\"text\": \"Taxa\"}, \"zeroline\": false}},\n",
              "                        {\"responsive\": true}\n",
              "                    ).then(function(){\n",
              "                            \n",
              "var gd = document.getElementById('714519d0-f4ec-478b-8e28-66dac9f1a1c4');\n",
              "var x = new MutationObserver(function (mutations, observer) {{\n",
              "        var display = window.getComputedStyle(gd).display;\n",
              "        if (!display || display === 'none') {{\n",
              "            console.log([gd, 'removed!']);\n",
              "            Plotly.purge(gd);\n",
              "            observer.disconnect();\n",
              "        }}\n",
              "}});\n",
              "\n",
              "// Listen for the removal of the full notebook cells\n",
              "var notebookContainer = gd.closest('#notebook-container');\n",
              "if (notebookContainer) {{\n",
              "    x.observe(notebookContainer, {childList: true});\n",
              "}}\n",
              "\n",
              "// Listen for the clearing of the current output cell\n",
              "var outputEl = gd.closest('.output');\n",
              "if (outputEl) {{\n",
              "    x.observe(outputEl, {childList: true});\n",
              "}}\n",
              "\n",
              "                        })\n",
              "                };\n",
              "                \n",
              "            </script>\n",
              "        </div>\n",
              "</body>\n",
              "</html>"
            ]
          },
          "metadata": {}
        }
      ]
    },
    {
      "cell_type": "code",
      "metadata": {
        "colab": {
          "base_uri": "https://localhost:8080/",
          "height": 497
        },
        "id": "hlSJ6aTYgbvG",
        "outputId": "e32b22c0-ac8c-4e2c-c446-8b84ca110abf"
      },
      "source": [
        "pyplot.plot(ano, linha, linestyle='--', label='Margem')\n",
        "pyplot.plot(ano, taxa, marker='.', label='RMHP')\n",
        "\n",
        "pyplot.xlabel('Ano')\n",
        "pyplot.ylabel('Taxa')\n",
        "pyplot.legend()\n",
        "pyplot.rcParams['figure.figsize'] = [12, 8]\n",
        "\n",
        "# Salvar o grafico como imagem\n",
        "#pyplot.savefig('RMHP_Taxa', format = 'png')\n",
        "\n",
        "pyplot.show()"
      ],
      "execution_count": 35,
      "outputs": [
        {
          "output_type": "display_data",
          "data": {
            "image/png": "[encoded data removed]",
            "text/plain": [
              "<Figure size 864x576 with 1 Axes>"
            ]
          },
          "metadata": {
            "needs_background": "light"
          }
        }
      ]
    }
  ]
}