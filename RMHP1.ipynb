{
  "nbformat": 4,
  "nbformat_minor": 0,
  "metadata": {
    "colab": {
      "name": "RMHP1.ipynb",
      "provenance": [],
      "authorship_tag": "ABX9TyMXq2IYLUNKoQB5cUC/JAD3",
      "include_colab_link": true
    },
    "kernelspec": {
      "name": "python3",
      "display_name": "Python 3"
    },
    "language_info": {
      "name": "python"
    }
  },
  "cells": [
    {
      "cell_type": "markdown",
      "metadata": {
        "id": "view-in-github",
        "colab_type": "text"
      },
      "source": [
        "<a href=\"https://colab.research.google.com/github/carlos-souza-blip/RMHP/blob/main/RMHP1.ipynb\" target=\"_parent\"><img src=\"https://colab.research.google.com/assets/colab-badge.svg\" alt=\"Open In Colab\"/></a>"
      ]
    },
    {
      "cell_type": "markdown",
      "metadata": {
        "id": "qiGhd0W6jJ9f"
      },
      "source": [
        "# Banco de dados - RMHP, ano 2017."
      ]
    },
    {
      "cell_type": "code",
      "metadata": {
        "id": "da6UvkYuiFYi"
      },
      "source": [
        "# importando Bibliotecas\n",
        "import pandas as pd\n",
        "import numpy as np\n",
        "from sklearn.linear_model import LogisticRegression\n",
        "from sklearn.metrics import roc_auc_score, roc_curve, classification_report,\\\n",
        "                            accuracy_score, confusion_matrix, auc\n",
        "from sklearn.model_selection import train_test_split\n",
        "from sklearn import metrics\n",
        "from matplotlib import pyplot\n",
        "import seaborn as sn"
      ],
      "execution_count": 1,
      "outputs": []
    },
    {
      "cell_type": "code",
      "metadata": {
        "colab": {
          "base_uri": "https://localhost:8080/",
          "height": 204
        },
        "id": "SzTpYKVTiUNi",
        "outputId": "a5b6f264-0c43-4317-b84e-791bfc123253"
      },
      "source": [
        "# Dados de 2017 (RMHP)\n",
        "df = pd.read_csv('https://raw.githubusercontent.com/carlos-souza-blip/RMHP/main/rmhp_selecao_2017_GO.csv', sep= \",\")\n",
        "df.head(5)"
      ],
      "execution_count": 2,
      "outputs": [
        {
          "output_type": "execute_result",
          "data": {
            "text/html": [
              "<div>\n",
              "<style scoped>\n",
              "    .dataframe tbody tr th:only-of-type {\n",
              "        vertical-align: middle;\n",
              "    }\n",
              "\n",
              "    .dataframe tbody tr th {\n",
              "        vertical-align: top;\n",
              "    }\n",
              "\n",
              "    .dataframe thead th {\n",
              "        text-align: right;\n",
              "    }\n",
              "</style>\n",
              "<table border=\"1\" class=\"dataframe\">\n",
              "  <thead>\n",
              "    <tr style=\"text-align: right;\">\n",
              "      <th></th>\n",
              "      <th>cnes</th>\n",
              "      <th>sexo</th>\n",
              "      <th>idade</th>\n",
              "      <th>diag_princ</th>\n",
              "      <th>dias_perm</th>\n",
              "      <th>ano</th>\n",
              "      <th>fxidade</th>\n",
              "      <th>cid50</th>\n",
              "      <th>permanencia</th>\n",
              "      <th>uso_uti</th>\n",
              "      <th>obito</th>\n",
              "      <th>icc</th>\n",
              "      <th>ieh</th>\n",
              "    </tr>\n",
              "  </thead>\n",
              "  <tbody>\n",
              "    <tr>\n",
              "      <th>0</th>\n",
              "      <td>2338262</td>\n",
              "      <td>3</td>\n",
              "      <td>28</td>\n",
              "      <td>A049</td>\n",
              "      <td>5</td>\n",
              "      <td>2017</td>\n",
              "      <td>1</td>\n",
              "      <td>0</td>\n",
              "      <td>2</td>\n",
              "      <td>0</td>\n",
              "      <td>0</td>\n",
              "      <td>0</td>\n",
              "      <td>0</td>\n",
              "    </tr>\n",
              "    <tr>\n",
              "      <th>1</th>\n",
              "      <td>2338262</td>\n",
              "      <td>1</td>\n",
              "      <td>38</td>\n",
              "      <td>F130</td>\n",
              "      <td>13</td>\n",
              "      <td>2017</td>\n",
              "      <td>1</td>\n",
              "      <td>0</td>\n",
              "      <td>4</td>\n",
              "      <td>1</td>\n",
              "      <td>1</td>\n",
              "      <td>0</td>\n",
              "      <td>0</td>\n",
              "    </tr>\n",
              "    <tr>\n",
              "      <th>2</th>\n",
              "      <td>2338262</td>\n",
              "      <td>1</td>\n",
              "      <td>86</td>\n",
              "      <td>I743</td>\n",
              "      <td>10</td>\n",
              "      <td>2017</td>\n",
              "      <td>5</td>\n",
              "      <td>0</td>\n",
              "      <td>3</td>\n",
              "      <td>0</td>\n",
              "      <td>0</td>\n",
              "      <td>0</td>\n",
              "      <td>0</td>\n",
              "    </tr>\n",
              "    <tr>\n",
              "      <th>3</th>\n",
              "      <td>2338262</td>\n",
              "      <td>3</td>\n",
              "      <td>60</td>\n",
              "      <td>K297</td>\n",
              "      <td>10</td>\n",
              "      <td>2017</td>\n",
              "      <td>3</td>\n",
              "      <td>0</td>\n",
              "      <td>3</td>\n",
              "      <td>0</td>\n",
              "      <td>0</td>\n",
              "      <td>0</td>\n",
              "      <td>0</td>\n",
              "    </tr>\n",
              "    <tr>\n",
              "      <th>4</th>\n",
              "      <td>2338262</td>\n",
              "      <td>1</td>\n",
              "      <td>37</td>\n",
              "      <td>K810</td>\n",
              "      <td>2</td>\n",
              "      <td>2017</td>\n",
              "      <td>1</td>\n",
              "      <td>0</td>\n",
              "      <td>2</td>\n",
              "      <td>0</td>\n",
              "      <td>0</td>\n",
              "      <td>0</td>\n",
              "      <td>0</td>\n",
              "    </tr>\n",
              "  </tbody>\n",
              "</table>\n",
              "</div>"
            ],
            "text/plain": [
              "      cnes  sexo  idade diag_princ  ...  uso_uti  obito  icc  ieh\n",
              "0  2338262     3     28       A049  ...        0      0    0    0\n",
              "1  2338262     1     38       F130  ...        1      1    0    0\n",
              "2  2338262     1     86       I743  ...        0      0    0    0\n",
              "3  2338262     3     60       K297  ...        0      0    0    0\n",
              "4  2338262     1     37       K810  ...        0      0    0    0\n",
              "\n",
              "[5 rows x 13 columns]"
            ]
          },
          "metadata": {
            "tags": []
          },
          "execution_count": 2
        }
      ]
    },
    {
      "cell_type": "markdown",
      "metadata": {
        "id": "yMmtDvbniolS"
      },
      "source": [
        "### Curva ROC\n",
        "\n",
        "Encontrando o melhor modelo dentro dos parâmentros da curva ROC, com a finalidade de executar a regressão logística."
      ]
    },
    {
      "cell_type": "code",
      "metadata": {
        "colab": {
          "base_uri": "https://localhost:8080/"
        },
        "id": "HxUvS_PVjAgY",
        "outputId": "d3378771-fe6d-4d98-f104-253f48350468"
      },
      "source": [
        "modelo_0 = roc_auc_score(df.obito, df.sexo + df.fxidade)\n",
        "print('Modelo 0 AUC: %0.2f' % modelo_0)\n",
        "modelo_1 = roc_auc_score(df.obito, df.sexo + df.fxidade + df.cid50)\n",
        "print('Modelo 1 AUC: %0.2f' % modelo_1)\n",
        "modelo_2 = roc_auc_score(df.obito, df.sexo + df.fxidade + df.cid50 + df.ieh)\n",
        "print('Modelo 2 AUC: %0.2f' % modelo_2)\n",
        "modelo_3 = roc_auc_score(df.obito, df.sexo + df.fxidade + df.cid50 + df.ieh + df.icc)\n",
        "print('Modelo 3 AUC: %0.2f' % modelo_3)\n",
        "modelo_4 = roc_auc_score(df.obito, df.sexo + df.fxidade + df.cid50 + df.ieh + df.icc + df.permanencia)\n",
        "print('Modelo 4 AUC: %0.2f' % modelo_4)\n",
        "modelo_5 = roc_auc_score(df.obito, df.sexo + df.fxidade + df.cid50 + df.ieh + df.icc + df.permanencia + df.uso_uti)\n",
        "print('Modelo 5 AUC: %0.2f' % modelo_5)\n",
        "modelo_6 = roc_auc_score(df.obito, df.fxidade + df.cid50 + df.icc + df.ieh + df.permanencia + df.uso_uti)\n",
        "print('Modelo 6 AUC: %0.2f' % modelo_6)"
      ],
      "execution_count": 3,
      "outputs": [
        {
          "output_type": "stream",
          "text": [
            "Modelo 0 AUC: 0.69\n",
            "Modelo 1 AUC: 0.72\n",
            "Modelo 2 AUC: 0.72\n",
            "Modelo 3 AUC: 0.75\n",
            "Modelo 4 AUC: 0.73\n",
            "Modelo 5 AUC: 0.76\n",
            "Modelo 6 AUC: 0.78\n"
          ],
          "name": "stdout"
        }
      ]
    },
    {
      "cell_type": "code",
      "metadata": {
        "id": "k-zOL_kYLJhD"
      },
      "source": [
        "aleatorio = [0 for _ in range(len(df.obito))]\n",
        "h_fpr, h_tpr, _ = roc_curve(df.obito, aleatorio)\n",
        "\n",
        "a_fpr, a_tpr, _ = roc_curve(df.obito, df.sexo + df.fxidade)\n",
        "b_fpr, b_tpr, _ = roc_curve(df.obito, df.sexo + df.fxidade + df.cid50)\n",
        "c_fpr, c_tpr, _ = roc_curve(df.obito, df.sexo + df.fxidade + df.cid50 + df.ieh)\n",
        "d_fpr, d_tpr, _ = roc_curve(df.obito, df.sexo + df.fxidade + df.cid50 + df.ieh + df.icc)\n",
        "e_fpr, e_tpr, _ = roc_curve(df.obito, df.sexo + df.fxidade + df.cid50 + df.ieh + df.icc + df.permanencia)\n",
        "f_fpr, f_tpr, _ = roc_curve(df.obito, df.sexo + df.fxidade + df.cid50 + df.ieh + df.icc + df.permanencia + df.uso_uti)\n",
        "g_fpr, g_tpr, _ = roc_curve(df.obito, df.fxidade + df.cid50 + df.ieh + df.icc + df.permanencia + df.uso_uti)"
      ],
      "execution_count": 4,
      "outputs": []
    },
    {
      "cell_type": "code",
      "metadata": {
        "colab": {
          "base_uri": "https://localhost:8080/",
          "height": 497
        },
        "id": "uMx6GgqlInKG",
        "outputId": "8f15ba5e-0716-4e2b-b180-e5b4bdf558c1"
      },
      "source": [
        "pyplot.plot(h_fpr, h_tpr, linestyle='--', label='' )\n",
        "\n",
        "pyplot.plot(a_fpr, a_tpr, marker='.', label='MODELO 0 (AUC: %0.2f)' % modelo_0)\n",
        "pyplot.plot(b_fpr, b_tpr, marker='.', label='MODELO 1 (AUC: %0.2f)' % modelo_1)\n",
        "pyplot.plot(c_fpr, c_tpr, marker='.', label='MODELO 2 (AUC: %0.2f)' % modelo_2)\n",
        "pyplot.plot(d_fpr, d_tpr, marker='.', label='MODELO 3 (AUC: %0.2f)' % modelo_3)\n",
        "pyplot.plot(e_fpr, e_tpr, marker='.', label='MODELO 4 (AUC: %0.2f)' % modelo_4)\n",
        "pyplot.plot(f_fpr, f_tpr, marker='.', label='MODELO 5 (AUC: %0.2f)' % modelo_5)\n",
        "pyplot.plot(g_fpr, g_tpr, marker='.', label='MODELO 6 (AUC: %0.2f)' % modelo_6)\n",
        "\n",
        "pyplot.xlabel('False Positive Rate')\n",
        "pyplot.ylabel('True Positive Rate')\n",
        "pyplot.legend()\n",
        "pyplot.rcParams['figure.figsize'] = [12, 8]\n",
        "\n",
        "#pyplot.savefig('Modelo_Curve_ROC', format = 'jpeg')\n",
        "\n",
        "pyplot.show()"
      ],
      "execution_count": 35,
      "outputs": [
        {
          "output_type": "display_data",
          "data": {
            "image/png": "[encoded data removed]",
            "text/plain": [
              "<Figure size 864x576 with 1 Axes>"
            ]
          },
          "metadata": {
            "tags": [],
            "needs_background": "light"
          }
        }
      ]
    },
    {
      "cell_type": "markdown",
      "metadata": {
        "id": "osajMx7Ckniu"
      },
      "source": [
        "Logo, o melhor modelo para aplicar a regressão logística é o modelo_6. Pois nela, saberamos os óbitos esperados."
      ]
    },
    {
      "cell_type": "code",
      "metadata": {
        "colab": {
          "base_uri": "https://localhost:8080/",
          "height": 204
        },
        "id": "kasTKOpzk3fX",
        "outputId": "021c4d16-e639-4c82-a1d7-1f22fc5d427d"
      },
      "source": [
        "# Organizando as variáveis conforme o modelo 6\n",
        "dados = df[['fxidade', 'cid50', 'ieh', 'icc', 'permanencia', 'uso_uti']]\n",
        "dados.head(5)"
      ],
      "execution_count": 6,
      "outputs": [
        {
          "output_type": "execute_result",
          "data": {
            "text/html": [
              "<div>\n",
              "<style scoped>\n",
              "    .dataframe tbody tr th:only-of-type {\n",
              "        vertical-align: middle;\n",
              "    }\n",
              "\n",
              "    .dataframe tbody tr th {\n",
              "        vertical-align: top;\n",
              "    }\n",
              "\n",
              "    .dataframe thead th {\n",
              "        text-align: right;\n",
              "    }\n",
              "</style>\n",
              "<table border=\"1\" class=\"dataframe\">\n",
              "  <thead>\n",
              "    <tr style=\"text-align: right;\">\n",
              "      <th></th>\n",
              "      <th>fxidade</th>\n",
              "      <th>cid50</th>\n",
              "      <th>ieh</th>\n",
              "      <th>icc</th>\n",
              "      <th>permanencia</th>\n",
              "      <th>uso_uti</th>\n",
              "    </tr>\n",
              "  </thead>\n",
              "  <tbody>\n",
              "    <tr>\n",
              "      <th>0</th>\n",
              "      <td>1</td>\n",
              "      <td>0</td>\n",
              "      <td>0</td>\n",
              "      <td>0</td>\n",
              "      <td>2</td>\n",
              "      <td>0</td>\n",
              "    </tr>\n",
              "    <tr>\n",
              "      <th>1</th>\n",
              "      <td>1</td>\n",
              "      <td>0</td>\n",
              "      <td>0</td>\n",
              "      <td>0</td>\n",
              "      <td>4</td>\n",
              "      <td>1</td>\n",
              "    </tr>\n",
              "    <tr>\n",
              "      <th>2</th>\n",
              "      <td>5</td>\n",
              "      <td>0</td>\n",
              "      <td>0</td>\n",
              "      <td>0</td>\n",
              "      <td>3</td>\n",
              "      <td>0</td>\n",
              "    </tr>\n",
              "    <tr>\n",
              "      <th>3</th>\n",
              "      <td>3</td>\n",
              "      <td>0</td>\n",
              "      <td>0</td>\n",
              "      <td>0</td>\n",
              "      <td>3</td>\n",
              "      <td>0</td>\n",
              "    </tr>\n",
              "    <tr>\n",
              "      <th>4</th>\n",
              "      <td>1</td>\n",
              "      <td>0</td>\n",
              "      <td>0</td>\n",
              "      <td>0</td>\n",
              "      <td>2</td>\n",
              "      <td>0</td>\n",
              "    </tr>\n",
              "  </tbody>\n",
              "</table>\n",
              "</div>"
            ],
            "text/plain": [
              "   fxidade  cid50  ieh  icc  permanencia  uso_uti\n",
              "0        1      0    0    0            2        0\n",
              "1        1      0    0    0            4        1\n",
              "2        5      0    0    0            3        0\n",
              "3        3      0    0    0            3        0\n",
              "4        1      0    0    0            2        0"
            ]
          },
          "metadata": {
            "tags": []
          },
          "execution_count": 6
        }
      ]
    },
    {
      "cell_type": "code",
      "metadata": {
        "colab": {
          "base_uri": "https://localhost:8080/"
        },
        "id": "pRTNDn_QleR2",
        "outputId": "57840e8f-121a-4f47-aa5d-055945eff99e"
      },
      "source": [
        "df['obito'].value_counts()"
      ],
      "execution_count": 7,
      "outputs": [
        {
          "output_type": "execute_result",
          "data": {
            "text/plain": [
              "0    43651\n",
              "1     3233\n",
              "Name: obito, dtype: int64"
            ]
          },
          "metadata": {
            "tags": []
          },
          "execution_count": 7
        }
      ]
    },
    {
      "cell_type": "markdown",
      "metadata": {
        "id": "C8L1TiVnmS9j"
      },
      "source": [
        "# Aplicando a Regressão Logística"
      ]
    },
    {
      "cell_type": "code",
      "metadata": {
        "id": "jk5X1ej5mXuE"
      },
      "source": [
        "# Separando os Dados para teste e treino\n",
        "# Iremos trabalhar com os dados de treino para verificar o modelo de regressão com 0,7% dos dados separados\n",
        "y = df.obito\n",
        "X = pd.get_dummies(df[['fxidade', 'cid50', 'ieh', 'icc', 'permanencia', 'uso_uti']])\n",
        "X_train,X_test,y_train,y_test = train_test_split(X,y,test_size=0.3,random_state=0)"
      ],
      "execution_count": 8,
      "outputs": []
    },
    {
      "cell_type": "code",
      "metadata": {
        "colab": {
          "base_uri": "https://localhost:8080/"
        },
        "id": "BiQ5Ut8unEWp",
        "outputId": "ec91cf83-1326-4596-8f33-438ba81c3470"
      },
      "source": [
        "y_train.value_counts()"
      ],
      "execution_count": 9,
      "outputs": [
        {
          "output_type": "execute_result",
          "data": {
            "text/plain": [
              "0    30549\n",
              "1     2269\n",
              "Name: obito, dtype: int64"
            ]
          },
          "metadata": {
            "tags": []
          },
          "execution_count": 9
        }
      ]
    },
    {
      "cell_type": "code",
      "metadata": {
        "id": "0j-7t4fNm6Gh"
      },
      "source": [
        "reg_logistica = LogisticRegression()\n",
        "reg_logistica.fit(X_train, y_train)\n",
        "y_predict = reg_logistica.predict(X_train)"
      ],
      "execution_count": 11,
      "outputs": []
    },
    {
      "cell_type": "code",
      "metadata": {
        "colab": {
          "base_uri": "https://localhost:8080/"
        },
        "id": "92XOlHYeOPNf",
        "outputId": "e978b3e9-8551-4d34-8f6b-26fc1edf4367"
      },
      "source": [
        "print('Coeficientes:', reg_logistica.coef_)\n",
        "print('Intercepto: %0.2f' %reg_logistica.intercept_)\n",
        "print('R-squared: %0.2f' %reg_logistica.score(X_train, y_train))\n",
        "print('Acurácia: %0.2f' %accuracy_score(y_train, reg_logistica.predict(X_train)))"
      ],
      "execution_count": 12,
      "outputs": [
        {
          "output_type": "stream",
          "text": [
            "Coeficientes: [[ 0.43108668  0.99443297  0.35787999  0.23032749 -0.11664137  2.38558383]]\n",
            "Intercepto: -4.46\n",
            "R-squared: 0.93\n",
            "Acurácia: 0.93\n"
          ],
          "name": "stdout"
        }
      ]
    },
    {
      "cell_type": "code",
      "metadata": {
        "colab": {
          "base_uri": "https://localhost:8080/"
        },
        "id": "1-64qa9DnPIb",
        "outputId": "e345f3fa-c87c-4189-c9af-01633d7f288e"
      },
      "source": [
        "print(classification_report(y_train, reg_logistica.predict(X_train)))"
      ],
      "execution_count": 13,
      "outputs": [
        {
          "output_type": "stream",
          "text": [
            "              precision    recall  f1-score   support\n",
            "\n",
            "           0       0.94      0.99      0.96     30549\n",
            "           1       0.49      0.17      0.25      2269\n",
            "\n",
            "    accuracy                           0.93     32818\n",
            "   macro avg       0.72      0.58      0.61     32818\n",
            "weighted avg       0.91      0.93      0.91     32818\n",
            "\n"
          ],
          "name": "stdout"
        }
      ]
    },
    {
      "cell_type": "code",
      "metadata": {
        "colab": {
          "base_uri": "https://localhost:8080/",
          "height": 516
        },
        "id": "Qpvv_05moTYm",
        "outputId": "552930ed-d633-4c6e-a696-668a34295c6b"
      },
      "source": [
        "# Matriz de confusão, com a finalidade misturar os dados de treino\n",
        "confusion_matrix = pd.crosstab(y_train, y_predict, rownames=['Actual'], colnames=['Predicted'])\n",
        "sn.heatmap(confusion_matrix, annot=True)"
      ],
      "execution_count": 14,
      "outputs": [
        {
          "output_type": "execute_result",
          "data": {
            "text/plain": [
              "<matplotlib.axes._subplots.AxesSubplot at 0x7fd5a86e1d90>"
            ]
          },
          "metadata": {
            "tags": []
          },
          "execution_count": 14
        },
        {
          "output_type": "display_data",
          "data": {
            "image/png": "[encoded data removed]",
            "text/plain": [
              "<Figure size 864x576 with 2 Axes>"
            ]
          },
          "metadata": {
            "tags": [],
            "needs_background": "light"
          }
        }
      ]
    },
    {
      "cell_type": "code",
      "metadata": {
        "colab": {
          "base_uri": "https://localhost:8080/"
        },
        "id": "3QGmljMMof4H",
        "outputId": "f7801bb9-7a7d-4aa2-a387-9b47f27b21ee"
      },
      "source": [
        "obito_esp = reg_logistica.predict_proba(X_train)[:,1]\n",
        "print('Soma das probabilidades preditas ou soma dos óbitos esperados %0.0f' % obito_esp.sum())"
      ],
      "execution_count": 17,
      "outputs": [
        {
          "output_type": "stream",
          "text": [
            "Soma das probabilidades preditas ou soma dos óbitos esperados 2269\n"
          ],
          "name": "stdout"
        }
      ]
    },
    {
      "cell_type": "code",
      "metadata": {
        "id": "yiaRF90zOCks",
        "colab": {
          "base_uri": "https://localhost:8080/",
          "height": 497
        },
        "outputId": "ef1c7237-ad68-4a8c-a9e4-0a374a397563"
      },
      "source": [
        "def pyplot_plot(y_true, y_score):\n",
        "  fpr, tpr, _ = roc_curve(y_true, y_score)\n",
        "  pyplot.rcParams['figure.figsize'] = [12, 8]\n",
        "  curve = roc_auc_score(y_true, y_score)\n",
        "  pyplot.plot(fpr, tpr, color='red', label='ROC curve (AUC %0.2f)' % curve)\n",
        "  pyplot.plot(h_fpr, h_tpr, linestyle='--', label='' )\n",
        "  pyplot.xlabel('False Positive Rate') \n",
        "  pyplot.ylabel('True Positive Rate')\n",
        "  pyplot.legend()\n",
        "  pyplot.show()\n",
        "\n",
        "#pyplot.savefig('Curve_ROC', format = 'jpeg')\n",
        "pyplot_plot(y_train, obito_esp)"
      ],
      "execution_count": 34,
      "outputs": [
        {
          "output_type": "display_data",
          "data": {
            "image/png": "[encoded data removed]",
            "text/plain": [
              "<Figure size 864x576 with 1 Axes>"
            ]
          },
          "metadata": {
            "tags": [],
            "needs_background": "light"
          }
        }
      ]
    },
    {
      "cell_type": "markdown",
      "metadata": {
        "id": "NfpwqLlRtUSF"
      },
      "source": [
        "# Testando o modelo para o banco de dados inteiro"
      ]
    },
    {
      "cell_type": "code",
      "metadata": {
        "colab": {
          "base_uri": "https://localhost:8080/"
        },
        "id": "WTnz370ItZJ8",
        "outputId": "74a2f046-657c-4346-fe0f-1318660e6e0c"
      },
      "source": [
        "dados_1 = reg_logistica.predict_proba(dados)[:,1]\n",
        "print('Somatório dos óbitos esperados %0.0f' % dados_1.sum())"
      ],
      "execution_count": 19,
      "outputs": [
        {
          "output_type": "stream",
          "text": [
            "Somatório dos óbitos esperados 3220\n"
          ],
          "name": "stdout"
        }
      ]
    },
    {
      "cell_type": "code",
      "metadata": {
        "colab": {
          "base_uri": "https://localhost:8080/"
        },
        "id": "qhLNxKf8vbTU",
        "outputId": "2ba5f1a4-864c-4aa0-f421-2899bac72cc3"
      },
      "source": [
        "# óbitos observados (óbito = 1 e não óbito = 0)\n",
        "df['obito'].value_counts()"
      ],
      "execution_count": 20,
      "outputs": [
        {
          "output_type": "execute_result",
          "data": {
            "text/plain": [
              "0    43651\n",
              "1     3233\n",
              "Name: obito, dtype: int64"
            ]
          },
          "metadata": {
            "tags": []
          },
          "execution_count": 20
        }
      ]
    },
    {
      "cell_type": "code",
      "metadata": {
        "colab": {
          "base_uri": "https://localhost:8080/"
        },
        "id": "8SQN1P8SvmKi",
        "outputId": "074b1f70-032b-4e6d-eb2e-401fe11cdd1e"
      },
      "source": [
        "# Calculando a taxa, somatória dos obitos observados / somatória dos óbitos esperados\n",
        "Razao = 3233 / 3220\n",
        "print('Obtivemos uma taxa de assistência hospitalar de %0.2f' % Razao)"
      ],
      "execution_count": 21,
      "outputs": [
        {
          "output_type": "stream",
          "text": [
            "Obtivemos uma taxa de assistência hospitalar de 1.00\n"
          ],
          "name": "stdout"
        }
      ]
    },
    {
      "cell_type": "markdown",
      "metadata": {
        "id": "Rz6jNTiUR4K5"
      },
      "source": [
        "Usando o modelo da regressão logística já treinado, obtivemos com exatidão por meio da função (predict_proba), cujo comando calcula a chance de cada individuo morrer com tais parâmetros aplicados. Para saber o número esperado de morte, é a somatória das probabilidades preditas."
      ]
    },
    {
      "cell_type": "markdown",
      "metadata": {
        "id": "vVvvaDo50I0O"
      },
      "source": [
        "# Série Histórica (2014-2020)"
      ]
    },
    {
      "cell_type": "code",
      "metadata": {
        "colab": {
          "base_uri": "https://localhost:8080/",
          "height": 204
        },
        "id": "b8fy08gr0Qa4",
        "outputId": "612a0c20-b480-456f-e35e-d7de7b627c2b"
      },
      "source": [
        "dataset = pd.read_csv('https://raw.githubusercontent.com/carlos-souza-blip/RMHP/main/rmhp_selecao_GO.csv', sep=\",\")\n",
        "dataset.head(5)"
      ],
      "execution_count": 22,
      "outputs": [
        {
          "output_type": "execute_result",
          "data": {
            "text/html": [
              "<div>\n",
              "<style scoped>\n",
              "    .dataframe tbody tr th:only-of-type {\n",
              "        vertical-align: middle;\n",
              "    }\n",
              "\n",
              "    .dataframe tbody tr th {\n",
              "        vertical-align: top;\n",
              "    }\n",
              "\n",
              "    .dataframe thead th {\n",
              "        text-align: right;\n",
              "    }\n",
              "</style>\n",
              "<table border=\"1\" class=\"dataframe\">\n",
              "  <thead>\n",
              "    <tr style=\"text-align: right;\">\n",
              "      <th></th>\n",
              "      <th>cnes</th>\n",
              "      <th>sexo</th>\n",
              "      <th>idade</th>\n",
              "      <th>diag_princ</th>\n",
              "      <th>dias_perm</th>\n",
              "      <th>ano</th>\n",
              "      <th>fxidade</th>\n",
              "      <th>cid50</th>\n",
              "      <th>permanencia</th>\n",
              "      <th>uso_uti</th>\n",
              "      <th>obito</th>\n",
              "      <th>icc</th>\n",
              "      <th>ieh</th>\n",
              "    </tr>\n",
              "  </thead>\n",
              "  <tbody>\n",
              "    <tr>\n",
              "      <th>0</th>\n",
              "      <td>2338262</td>\n",
              "      <td>3</td>\n",
              "      <td>75</td>\n",
              "      <td>A318</td>\n",
              "      <td>4</td>\n",
              "      <td>2014</td>\n",
              "      <td>4</td>\n",
              "      <td>1</td>\n",
              "      <td>2</td>\n",
              "      <td>0</td>\n",
              "      <td>0</td>\n",
              "      <td>0</td>\n",
              "      <td>0</td>\n",
              "    </tr>\n",
              "    <tr>\n",
              "      <th>1</th>\n",
              "      <td>2338262</td>\n",
              "      <td>1</td>\n",
              "      <td>40</td>\n",
              "      <td>A480</td>\n",
              "      <td>1</td>\n",
              "      <td>2014</td>\n",
              "      <td>1</td>\n",
              "      <td>0</td>\n",
              "      <td>1</td>\n",
              "      <td>0</td>\n",
              "      <td>0</td>\n",
              "      <td>0</td>\n",
              "      <td>0</td>\n",
              "    </tr>\n",
              "    <tr>\n",
              "      <th>2</th>\n",
              "      <td>2338262</td>\n",
              "      <td>1</td>\n",
              "      <td>76</td>\n",
              "      <td>B873</td>\n",
              "      <td>3</td>\n",
              "      <td>2014</td>\n",
              "      <td>4</td>\n",
              "      <td>0</td>\n",
              "      <td>2</td>\n",
              "      <td>0</td>\n",
              "      <td>0</td>\n",
              "      <td>0</td>\n",
              "      <td>0</td>\n",
              "    </tr>\n",
              "    <tr>\n",
              "      <th>3</th>\n",
              "      <td>2338262</td>\n",
              "      <td>3</td>\n",
              "      <td>30</td>\n",
              "      <td>A419</td>\n",
              "      <td>11</td>\n",
              "      <td>2014</td>\n",
              "      <td>1</td>\n",
              "      <td>1</td>\n",
              "      <td>4</td>\n",
              "      <td>0</td>\n",
              "      <td>0</td>\n",
              "      <td>0</td>\n",
              "      <td>0</td>\n",
              "    </tr>\n",
              "    <tr>\n",
              "      <th>4</th>\n",
              "      <td>2338262</td>\n",
              "      <td>1</td>\n",
              "      <td>38</td>\n",
              "      <td>A480</td>\n",
              "      <td>3</td>\n",
              "      <td>2014</td>\n",
              "      <td>1</td>\n",
              "      <td>0</td>\n",
              "      <td>2</td>\n",
              "      <td>0</td>\n",
              "      <td>0</td>\n",
              "      <td>0</td>\n",
              "      <td>0</td>\n",
              "    </tr>\n",
              "  </tbody>\n",
              "</table>\n",
              "</div>"
            ],
            "text/plain": [
              "      cnes  sexo  idade diag_princ  ...  uso_uti  obito  icc  ieh\n",
              "0  2338262     3     75       A318  ...        0      0    0    0\n",
              "1  2338262     1     40       A480  ...        0      0    0    0\n",
              "2  2338262     1     76       B873  ...        0      0    0    0\n",
              "3  2338262     3     30       A419  ...        0      0    0    0\n",
              "4  2338262     1     38       A480  ...        0      0    0    0\n",
              "\n",
              "[5 rows x 13 columns]"
            ]
          },
          "metadata": {
            "tags": []
          },
          "execution_count": 22
        }
      ]
    },
    {
      "cell_type": "code",
      "metadata": {
        "id": "MOACAdw00vbF"
      },
      "source": [
        "# Separado os anos;\n",
        "# Aplicando o modelo 6, segundo a curva ROC.\n",
        "sh14 = dataset.loc[dataset['ano'] == 2014]\n",
        "sh14 = sh14[['fxidade', 'cid50', 'ieh', 'icc', 'permanencia', 'uso_uti']]\n",
        "sh15 = dataset.loc[dataset['ano'] == 2015]\n",
        "sh15 = sh15[['fxidade', 'cid50', 'ieh', 'icc', 'permanencia', 'uso_uti']]\n",
        "sh16 = dataset.loc[dataset['ano'] == 2016]\n",
        "sh16 = sh16[['fxidade', 'cid50', 'ieh', 'icc', 'permanencia', 'uso_uti']]\n",
        "sh17 = dataset.loc[dataset['ano'] == 2017]\n",
        "sh17 = sh17[['fxidade', 'cid50', 'ieh', 'icc', 'permanencia', 'uso_uti']]\n",
        "sh18 = dataset.loc[dataset['ano'] == 2018]\n",
        "sh18 = sh18[['fxidade', 'cid50', 'ieh', 'icc', 'permanencia', 'uso_uti']]\n",
        "sh19 = dataset.loc[dataset['ano'] == 2019]\n",
        "sh19 = sh19[['fxidade', 'cid50', 'ieh', 'icc', 'permanencia', 'uso_uti']]\n",
        "sh20 = dataset.loc[dataset['ano'] == 2020]\n",
        "sh20 = sh20[['fxidade', 'cid50', 'ieh', 'icc', 'permanencia', 'uso_uti']]"
      ],
      "execution_count": 23,
      "outputs": []
    },
    {
      "cell_type": "code",
      "metadata": {
        "colab": {
          "base_uri": "https://localhost:8080/"
        },
        "id": "MWxm4tyg7lfi",
        "outputId": "7d10099c-105e-4cfb-8aa8-66556966090d"
      },
      "source": [
        "# Tabela de Contigência 2x2\n",
        "obito = dataset.groupby('ano')['obito'].value_counts()\n",
        "print(obito)"
      ],
      "execution_count": 24,
      "outputs": [
        {
          "output_type": "stream",
          "text": [
            "ano   obito\n",
            "2014  0        34113\n",
            "      1         2492\n",
            "2015  0        37985\n",
            "      1         2814\n",
            "2016  0        39853\n",
            "      1         3122\n",
            "2017  0        43651\n",
            "      1         3233\n",
            "2018  0        49455\n",
            "      1         3533\n",
            "2019  0        52577\n",
            "      1         3950\n",
            "2020  0        43232\n",
            "      1         3891\n",
            "Name: obito, dtype: int64\n"
          ],
          "name": "stdout"
        }
      ]
    },
    {
      "cell_type": "code",
      "metadata": {
        "colab": {
          "base_uri": "https://localhost:8080/"
        },
        "id": "UV-YRX_26ogu",
        "outputId": "df012b11-d308-4d75-c6d4-1fa338dc889f"
      },
      "source": [
        "sh14_ = reg_logistica.predict_proba(sh14)[:,1]\n",
        "print('Somatória dos óbitos esperados %0.0f' % sh14_.sum(), 'em 2014.')\n",
        "sh15_ = reg_logistica.predict_proba(sh15)[:,1]\n",
        "print('Somatória dos óbitos esperados %0.0f' % sh15_.sum(), 'em 2015.')\n",
        "sh16_ = reg_logistica.predict_proba(sh16)[:,1]\n",
        "print('Somatória dos óbitos esperados %0.0f' % sh16_.sum(), 'em 2016.')\n",
        "sh17_ = reg_logistica.predict_proba(sh17)[:,1]\n",
        "print('Somatória dos óbitos esperados %0.0f' % sh17_.sum(), 'em 2017.')\n",
        "sh18_ = reg_logistica.predict_proba(sh18)[:,1]\n",
        "print('Somatória dos óbitos esperados %0.0f' % sh18_.sum(), 'em 2018.')\n",
        "sh19_ = reg_logistica.predict_proba(sh19)[:,1]\n",
        "print('Somatória dos óbitos esperados %0.0f' % sh19_.sum(), 'em 2019.')\n",
        "sh20_ = reg_logistica.predict_proba(sh20)[:,1]\n",
        "print('Somatória dos óbitos esperados %0.0f' % sh20_.sum(), 'em 2020.')"
      ],
      "execution_count": 25,
      "outputs": [
        {
          "output_type": "stream",
          "text": [
            "Somatória dos óbitos esperados 2256 em 2014.\n",
            "Somatória dos óbitos esperados 2602 em 2015.\n",
            "Somatória dos óbitos esperados 2885 em 2016.\n",
            "Somatória dos óbitos esperados 3220 em 2017.\n",
            "Somatória dos óbitos esperados 3833 em 2018.\n",
            "Somatória dos óbitos esperados 4260 em 2019.\n",
            "Somatória dos óbitos esperados 3593 em 2020.\n"
          ],
          "name": "stdout"
        }
      ]
    },
    {
      "cell_type": "code",
      "metadata": {
        "colab": {
          "base_uri": "https://localhost:8080/"
        },
        "id": "FonYc9Y07UDs",
        "outputId": "0487e9d1-fa9d-4da7-8a3e-577e570ca939"
      },
      "source": [
        "razao14 = 2492 / 2256\n",
        "print('Obtivemos uma taxa de assistência hospitalar em 2014 de %0.2f' % razao14)\n",
        "razao15 = 2814 / 2602\n",
        "print('Obtivemos uma taxa de assistência hospitalar em 2015 de %0.2f' % razao15)\n",
        "razao16 = 3122 / 2885\n",
        "print('Obtivemos uma taxa de assistência hospitalar em 2016 de %0.2f' % razao16)\n",
        "razao17 = 3233 / 3220\n",
        "print('Obtivemos uma taxa de assistência hospitalar em 2017 de %0.2f' % razao17)\n",
        "razao18 = 3533 / 3833\n",
        "print('Obtivemos uma taxa de assistência hospitalar em 2018 de %0.2f' % razao18)\n",
        "razao19 = 3950 / 4260\n",
        "print('Obtivemos uma taxa de assistência hospitalar em 2019 de %0.2f' % razao19)\n",
        "razao20 = 3891 / 3593\n",
        "print('Obtivemos uma taxa de assistência hospitalar em 2020 de %0.2f' % razao20)"
      ],
      "execution_count": 26,
      "outputs": [
        {
          "output_type": "stream",
          "text": [
            "Obtivemos uma taxa de assistência hospitalar em 2014 de 1.10\n",
            "Obtivemos uma taxa de assistência hospitalar em 2015 de 1.08\n",
            "Obtivemos uma taxa de assistência hospitalar em 2016 de 1.08\n",
            "Obtivemos uma taxa de assistência hospitalar em 2017 de 1.00\n",
            "Obtivemos uma taxa de assistência hospitalar em 2018 de 0.92\n",
            "Obtivemos uma taxa de assistência hospitalar em 2019 de 0.93\n",
            "Obtivemos uma taxa de assistência hospitalar em 2020 de 1.08\n"
          ],
          "name": "stdout"
        }
      ]
    },
    {
      "cell_type": "code",
      "metadata": {
        "id": "6O_-u-3hCfrC"
      },
      "source": [
        "taxa = [1.10, 1.08, 1.08, 1.00, 0.92, 0.93, 1.08]\n",
        "ano = [2014, 2015, 2016, 2017, 2018, 2019, 2020]\n",
        "linha = [1, 1, 1, 1, 1, 1, 1]"
      ],
      "execution_count": 27,
      "outputs": []
    },
    {
      "cell_type": "code",
      "metadata": {
        "id": "OnOiYvY4RwZC"
      },
      "source": [
        "import plotly.offline as py"
      ],
      "execution_count": 28,
      "outputs": []
    },
    {
      "cell_type": "code",
      "metadata": {
        "colab": {
          "base_uri": "https://localhost:8080/",
          "height": 497
        },
        "id": "hlSJ6aTYgbvG",
        "outputId": "fd442ae6-e82d-48ad-9e5b-b47b4cd405ee"
      },
      "source": [
        "pyplot.plot(ano, taxa, marker='.', label='RMHP')\n",
        "pyplot.plot(ano, linha, linestyle='--', label='Taxa aceitável')\n",
        "\n",
        "pyplot.xlabel('Ano')\n",
        "pyplot.ylabel('Taxa')\n",
        "pyplot.legend()\n",
        "pyplot.rcParams['figure.figsize'] = [12, 8]\n",
        "\n",
        "#pyplot.savefig('RMHP_Taxa', format = 'png')\n",
        "\n",
        "pyplot.show()"
      ],
      "execution_count": 30,
      "outputs": [
        {
          "output_type": "display_data",
          "data": {
            "image/png": "[encoded data removed]",
            "text/plain": [
              "<Figure size 864x576 with 1 Axes>"
            ]
          },
          "metadata": {
            "tags": [],
            "needs_background": "light"
          }
        }
      ]
    }
  ]
}