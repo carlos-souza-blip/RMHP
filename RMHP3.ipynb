{
  "nbformat": 4,
  "nbformat_minor": 0,
  "metadata": {
    "colab": {
      "name": "RMHP3.ipynb",
      "provenance": [],
      "collapsed_sections": [],
      "authorship_tag": "ABX9TyPPvBrgs3gKvpG9s9hIytvh",
      "include_colab_link": true
    },
    "kernelspec": {
      "name": "python3",
      "display_name": "Python 3"
    },
    "language_info": {
      "name": "python"
    }
  },
  "cells": [
    {
      "cell_type": "markdown",
      "metadata": {
        "id": "view-in-github",
        "colab_type": "text"
      },
      "source": [
        "<a href=\"https://colab.research.google.com/github/carlos-souza-blip/RMHP/blob/main/RMHP3.ipynb\" target=\"_parent\"><img src=\"https://colab.research.google.com/assets/colab-badge.svg\" alt=\"Open In Colab\"/></a>"
      ]
    },
    {
      "cell_type": "markdown",
      "metadata": {
        "id": "qiGhd0W6jJ9f"
      },
      "source": [
        "# Banco de dados - RMHP, ano 2017."
      ]
    },
    {
      "cell_type": "code",
      "metadata": {
        "id": "da6UvkYuiFYi"
      },
      "source": [
        "# importando Bibliotecas\n",
        "import pandas as pd\n",
        "import numpy as np\n",
        "from sklearn.linear_model import LogisticRegression\n",
        "from sklearn.metrics import roc_auc_score, roc_curve, classification_report,\\\n",
        "                            accuracy_score, confusion_matrix, auc, mean_squared_error\n",
        "from sklearn.model_selection import train_test_split\n",
        "from sklearn import metrics\n",
        "from matplotlib import pyplot\n",
        "from math import sqrt"
      ],
      "execution_count": null,
      "outputs": []
    },
    {
      "cell_type": "code",
      "metadata": {
        "colab": {
          "base_uri": "https://localhost:8080/",
          "height": 419
        },
        "id": "SzTpYKVTiUNi",
        "outputId": "7197b69b-31ee-475a-e5a0-d357c925d679"
      },
      "source": [
        "# Dados de 2017 (RMHP)\n",
        "df = pd.read_csv('https://raw.githubusercontent.com/carlos-souza-blip/RMHP/main/rmhp_selecao_2017_GO_.csv', sep= \",\")\n",
        "df"
      ],
      "execution_count": null,
      "outputs": [
        {
          "output_type": "execute_result",
          "data": {
            "text/html": [
              "<div>\n",
              "<style scoped>\n",
              "    .dataframe tbody tr th:only-of-type {\n",
              "        vertical-align: middle;\n",
              "    }\n",
              "\n",
              "    .dataframe tbody tr th {\n",
              "        vertical-align: top;\n",
              "    }\n",
              "\n",
              "    .dataframe thead th {\n",
              "        text-align: right;\n",
              "    }\n",
              "</style>\n",
              "<table border=\"1\" class=\"dataframe\">\n",
              "  <thead>\n",
              "    <tr style=\"text-align: right;\">\n",
              "      <th></th>\n",
              "      <th>cnes</th>\n",
              "      <th>sexo</th>\n",
              "      <th>idade</th>\n",
              "      <th>diag_princ</th>\n",
              "      <th>dias_perm</th>\n",
              "      <th>ano</th>\n",
              "      <th>fxidade</th>\n",
              "      <th>cid50</th>\n",
              "      <th>permanencia</th>\n",
              "      <th>uso_uti</th>\n",
              "      <th>obito</th>\n",
              "      <th>icc</th>\n",
              "      <th>ieh</th>\n",
              "    </tr>\n",
              "  </thead>\n",
              "  <tbody>\n",
              "    <tr>\n",
              "      <th>0</th>\n",
              "      <td>2338262</td>\n",
              "      <td>3</td>\n",
              "      <td>28</td>\n",
              "      <td>A049</td>\n",
              "      <td>5</td>\n",
              "      <td>2017</td>\n",
              "      <td>1</td>\n",
              "      <td>0</td>\n",
              "      <td>2</td>\n",
              "      <td>0</td>\n",
              "      <td>0</td>\n",
              "      <td>0</td>\n",
              "      <td>0</td>\n",
              "    </tr>\n",
              "    <tr>\n",
              "      <th>1</th>\n",
              "      <td>2338262</td>\n",
              "      <td>1</td>\n",
              "      <td>38</td>\n",
              "      <td>F130</td>\n",
              "      <td>13</td>\n",
              "      <td>2017</td>\n",
              "      <td>1</td>\n",
              "      <td>0</td>\n",
              "      <td>4</td>\n",
              "      <td>1</td>\n",
              "      <td>1</td>\n",
              "      <td>0</td>\n",
              "      <td>0</td>\n",
              "    </tr>\n",
              "    <tr>\n",
              "      <th>2</th>\n",
              "      <td>2338262</td>\n",
              "      <td>1</td>\n",
              "      <td>86</td>\n",
              "      <td>I743</td>\n",
              "      <td>10</td>\n",
              "      <td>2017</td>\n",
              "      <td>5</td>\n",
              "      <td>0</td>\n",
              "      <td>3</td>\n",
              "      <td>0</td>\n",
              "      <td>0</td>\n",
              "      <td>0</td>\n",
              "      <td>0</td>\n",
              "    </tr>\n",
              "    <tr>\n",
              "      <th>3</th>\n",
              "      <td>2338262</td>\n",
              "      <td>3</td>\n",
              "      <td>60</td>\n",
              "      <td>K297</td>\n",
              "      <td>10</td>\n",
              "      <td>2017</td>\n",
              "      <td>3</td>\n",
              "      <td>0</td>\n",
              "      <td>3</td>\n",
              "      <td>0</td>\n",
              "      <td>0</td>\n",
              "      <td>0</td>\n",
              "      <td>0</td>\n",
              "    </tr>\n",
              "    <tr>\n",
              "      <th>4</th>\n",
              "      <td>2338262</td>\n",
              "      <td>1</td>\n",
              "      <td>37</td>\n",
              "      <td>K810</td>\n",
              "      <td>2</td>\n",
              "      <td>2017</td>\n",
              "      <td>1</td>\n",
              "      <td>0</td>\n",
              "      <td>2</td>\n",
              "      <td>0</td>\n",
              "      <td>0</td>\n",
              "      <td>0</td>\n",
              "      <td>0</td>\n",
              "    </tr>\n",
              "    <tr>\n",
              "      <th>...</th>\n",
              "      <td>...</td>\n",
              "      <td>...</td>\n",
              "      <td>...</td>\n",
              "      <td>...</td>\n",
              "      <td>...</td>\n",
              "      <td>...</td>\n",
              "      <td>...</td>\n",
              "      <td>...</td>\n",
              "      <td>...</td>\n",
              "      <td>...</td>\n",
              "      <td>...</td>\n",
              "      <td>...</td>\n",
              "      <td>...</td>\n",
              "    </tr>\n",
              "    <tr>\n",
              "      <th>45925</th>\n",
              "      <td>7743068</td>\n",
              "      <td>3</td>\n",
              "      <td>57</td>\n",
              "      <td>M840</td>\n",
              "      <td>1</td>\n",
              "      <td>2017</td>\n",
              "      <td>2</td>\n",
              "      <td>0</td>\n",
              "      <td>1</td>\n",
              "      <td>0</td>\n",
              "      <td>0</td>\n",
              "      <td>0</td>\n",
              "      <td>0</td>\n",
              "    </tr>\n",
              "    <tr>\n",
              "      <th>45926</th>\n",
              "      <td>7743068</td>\n",
              "      <td>3</td>\n",
              "      <td>68</td>\n",
              "      <td>M840</td>\n",
              "      <td>5</td>\n",
              "      <td>2017</td>\n",
              "      <td>3</td>\n",
              "      <td>0</td>\n",
              "      <td>2</td>\n",
              "      <td>0</td>\n",
              "      <td>0</td>\n",
              "      <td>0</td>\n",
              "      <td>0</td>\n",
              "    </tr>\n",
              "    <tr>\n",
              "      <th>45927</th>\n",
              "      <td>7743068</td>\n",
              "      <td>1</td>\n",
              "      <td>28</td>\n",
              "      <td>M840</td>\n",
              "      <td>1</td>\n",
              "      <td>2017</td>\n",
              "      <td>1</td>\n",
              "      <td>0</td>\n",
              "      <td>1</td>\n",
              "      <td>0</td>\n",
              "      <td>0</td>\n",
              "      <td>0</td>\n",
              "      <td>0</td>\n",
              "    </tr>\n",
              "    <tr>\n",
              "      <th>45928</th>\n",
              "      <td>7743068</td>\n",
              "      <td>1</td>\n",
              "      <td>24</td>\n",
              "      <td>M841</td>\n",
              "      <td>2</td>\n",
              "      <td>2017</td>\n",
              "      <td>1</td>\n",
              "      <td>0</td>\n",
              "      <td>2</td>\n",
              "      <td>0</td>\n",
              "      <td>0</td>\n",
              "      <td>0</td>\n",
              "      <td>0</td>\n",
              "    </tr>\n",
              "    <tr>\n",
              "      <th>45929</th>\n",
              "      <td>7743068</td>\n",
              "      <td>3</td>\n",
              "      <td>24</td>\n",
              "      <td>M841</td>\n",
              "      <td>7</td>\n",
              "      <td>2017</td>\n",
              "      <td>1</td>\n",
              "      <td>0</td>\n",
              "      <td>3</td>\n",
              "      <td>0</td>\n",
              "      <td>0</td>\n",
              "      <td>0</td>\n",
              "      <td>0</td>\n",
              "    </tr>\n",
              "  </tbody>\n",
              "</table>\n",
              "<p>45930 rows × 13 columns</p>\n",
              "</div>"
            ],
            "text/plain": [
              "          cnes  sexo  idade diag_princ  ...  uso_uti  obito  icc  ieh\n",
              "0      2338262     3     28       A049  ...        0      0    0    0\n",
              "1      2338262     1     38       F130  ...        1      1    0    0\n",
              "2      2338262     1     86       I743  ...        0      0    0    0\n",
              "3      2338262     3     60       K297  ...        0      0    0    0\n",
              "4      2338262     1     37       K810  ...        0      0    0    0\n",
              "...        ...   ...    ...        ...  ...      ...    ...  ...  ...\n",
              "45925  7743068     3     57       M840  ...        0      0    0    0\n",
              "45926  7743068     3     68       M840  ...        0      0    0    0\n",
              "45927  7743068     1     28       M840  ...        0      0    0    0\n",
              "45928  7743068     1     24       M841  ...        0      0    0    0\n",
              "45929  7743068     3     24       M841  ...        0      0    0    0\n",
              "\n",
              "[45930 rows x 13 columns]"
            ]
          },
          "metadata": {},
          "execution_count": 2
        }
      ]
    },
    {
      "cell_type": "markdown",
      "metadata": {
        "id": "yMmtDvbniolS"
      },
      "source": [
        "### Curva ROC\n",
        "\n",
        "Encontrando o melhor modelo dentro dos parâmentros da curva ROC, com a finalidade de executar a regressão logística."
      ]
    },
    {
      "cell_type": "code",
      "metadata": {
        "colab": {
          "base_uri": "https://localhost:8080/"
        },
        "id": "HxUvS_PVjAgY",
        "outputId": "7e0b94a9-0a48-4764-abf9-d4e72b910075"
      },
      "source": [
        "modelo_0 = roc_auc_score(df.obito, df.sexo + df.fxidade)\n",
        "print('Modelo 0 AUC: %0.2f' % modelo_0)\n",
        "modelo_1 = roc_auc_score(df.obito, df.sexo + df.fxidade + df.cid50)\n",
        "print('Modelo 1 AUC: %0.2f' % modelo_1)\n",
        "modelo_2 = roc_auc_score(df.obito, df.sexo + df.fxidade + df.cid50 + df.ieh)\n",
        "print('Modelo 2 AUC: %0.2f' % modelo_2)\n",
        "modelo_3 = roc_auc_score(df.obito, df.sexo + df.fxidade + df.cid50 + df.ieh + df.icc)\n",
        "print('Modelo 3 AUC: %0.2f' % modelo_3)\n",
        "modelo_4 = roc_auc_score(df.obito, df.sexo + df.fxidade + df.cid50 + df.ieh + df.icc + df.permanencia)\n",
        "print('Modelo 4 AUC: %0.2f' % modelo_4)\n",
        "modelo_5 = roc_auc_score(df.obito, df.sexo + df.fxidade + df.cid50 + df.ieh + df.icc + df.permanencia + df.uso_uti)\n",
        "print('Modelo 5 AUC: %0.2f' % modelo_5)\n",
        "modelo_6 = roc_auc_score(df.obito, df.fxidade + df.cid50 + df.icc + df.ieh + df.permanencia + df.uso_uti)\n",
        "print('Modelo 6 AUC: %0.2f' % modelo_6)"
      ],
      "execution_count": null,
      "outputs": [
        {
          "output_type": "stream",
          "name": "stdout",
          "text": [
            "Modelo 0 AUC: 0.69\n",
            "Modelo 1 AUC: 0.72\n",
            "Modelo 2 AUC: 0.72\n",
            "Modelo 3 AUC: 0.75\n",
            "Modelo 4 AUC: 0.73\n",
            "Modelo 5 AUC: 0.77\n",
            "Modelo 6 AUC: 0.78\n"
          ]
        }
      ]
    },
    {
      "cell_type": "code",
      "metadata": {
        "id": "yFixpFqAou-w"
      },
      "source": [
        "def intervalo_conf_ROC(y_true, y_score):\n",
        "    curva_roc = roc_auc_score(y_true, y_score)\n",
        "    qtd = sum(y_true == 1)\n",
        "    qtd_ = sum(y_true == 0)\n",
        "    x = curva_roc / (2 - curva_roc)\n",
        "    y = 2*curva_roc**2 / (1 + curva_roc)\n",
        "    RQ = sqrt((curva_roc*(1 - curva_roc) + (qtd - 1)*(x - curva_roc**2) + (qtd_ - 1)*(y - curva_roc**2)) / (qtd*qtd_))\n",
        "    lower = curva_roc - 1.96*RQ\n",
        "    upper = curva_roc + 1.96*RQ\n",
        "\n",
        "    return (lower, upper)"
      ],
      "execution_count": null,
      "outputs": []
    },
    {
      "cell_type": "code",
      "metadata": {
        "colab": {
          "base_uri": "https://localhost:8080/"
        },
        "id": "SV4M0VhKmAbL",
        "outputId": "4c3ad581-6a91-4c6b-e435-93ca233e19d6"
      },
      "source": [
        "# Intervalo de confiança para o modelo 6\n",
        "intervalo_conf_ROC(df.obito, df.fxidade + df.cid50 + df.icc + df.ieh + df.permanencia + df.uso_uti)"
      ],
      "execution_count": null,
      "outputs": [
        {
          "output_type": "execute_result",
          "data": {
            "text/plain": [
              "(0.7744343991335527, 0.793793387408718)"
            ]
          },
          "metadata": {},
          "execution_count": 5
        }
      ]
    },
    {
      "cell_type": "code",
      "metadata": {
        "id": "k-zOL_kYLJhD"
      },
      "source": [
        "# Plotar gráfico\n",
        "aleatorio = [0 for _ in range(len(df.obito))]\n",
        "h_fpr, h_tpr, _ = roc_curve(df.obito, aleatorio)\n",
        "\n",
        "a_fpr, a_tpr, _ = roc_curve(df.obito, df.sexo + df.fxidade)\n",
        "b_fpr, b_tpr, _ = roc_curve(df.obito, df.sexo + df.fxidade + df.cid50)\n",
        "c_fpr, c_tpr, _ = roc_curve(df.obito, df.sexo + df.fxidade + df.cid50 + df.ieh)\n",
        "d_fpr, d_tpr, _ = roc_curve(df.obito, df.sexo + df.fxidade + df.cid50 + df.ieh + df.icc)\n",
        "e_fpr, e_tpr, _ = roc_curve(df.obito, df.sexo + df.fxidade + df.cid50 + df.ieh + df.icc + df.permanencia)\n",
        "f_fpr, f_tpr, _ = roc_curve(df.obito, df.sexo + df.fxidade + df.cid50 + df.ieh + df.icc + df.permanencia + df.uso_uti)\n",
        "g_fpr, g_tpr, _ = roc_curve(df.obito, df.fxidade + df.cid50 + df.ieh + df.icc + df.permanencia + df.uso_uti)"
      ],
      "execution_count": null,
      "outputs": []
    },
    {
      "cell_type": "code",
      "metadata": {
        "colab": {
          "base_uri": "https://localhost:8080/",
          "height": 606
        },
        "id": "uMx6GgqlInKG",
        "outputId": "8eec2043-d5c7-4c1a-9655-7755ecbb4e8f"
      },
      "source": [
        "pyplot.plot(h_fpr, h_tpr, linestyle='--', label='' )\n",
        "\n",
        "pyplot.plot(a_fpr, a_tpr, marker='.', label='Modelo base: sexo + faixa etária - AUC: %0.2f' % modelo_0)\n",
        "pyplot.plot(b_fpr, b_tpr, marker='.', label='Modelo 1: Modelo base + CID50 - AUC: %0.2f' %  modelo_1)\n",
        "pyplot.plot(c_fpr, c_tpr, marker='.', label='Modelo 2: Modelo 1 + IEH - AUC: %0.2f' % modelo_2)\n",
        "pyplot.plot(d_fpr, d_tpr, marker='.', label='Modelo 3: Modelo 2 + ICC - AUC: %0.2f' % modelo_3)\n",
        "pyplot.plot(e_fpr, e_tpr, marker='.', label='Modelo 4: Modelo 3 + dias de permanência -  AUC: %0.2f' % modelo_4)\n",
        "pyplot.plot(f_fpr, f_tpr, marker='.', label='Modelo 5: Modelo 4 + uso de UTI - AUC: %0.2f' % modelo_5)\n",
        "pyplot.plot(g_fpr, g_tpr, marker='.', label='Modelo 6: faixa etária + CI50 + IEH + ICC + dias de permanência + uso de UTI - AUC: %0.2f' % modelo_6)\n",
        "\n",
        "pyplot.xlabel('Taxa de falso positivo (Especificidade)')\n",
        "pyplot.ylabel('Taxa de verdadeiro positivo (Sensibilidade)')\n",
        "pyplot.legend()\n",
        "pyplot.rcParams['figure.figsize'] = [14, 10]\n",
        "\n",
        "#pyplot.savefig('curva_roc', format = 'png')\n",
        "pyplot.show()"
      ],
      "execution_count": null,
      "outputs": [
        {
          "output_type": "display_data",
          "data": {
            "image/png": "[encoded data removed]",
            "text/plain": [
              "<Figure size 1008x720 with 1 Axes>"
            ]
          },
          "metadata": {
            "needs_background": "light"
          }
        }
      ]
    },
    {
      "cell_type": "markdown",
      "metadata": {
        "id": "osajMx7Ckniu"
      },
      "source": [
        "Logo, o melhor modelo para aplicar a regressão logística é o modelo_6. Pois nela, saberamos os óbitos esperados."
      ]
    },
    {
      "cell_type": "code",
      "metadata": {
        "colab": {
          "base_uri": "https://localhost:8080/",
          "height": 142
        },
        "id": "kasTKOpzk3fX",
        "outputId": "c848fcf2-9ee6-413d-a791-82636b174506"
      },
      "source": [
        "# Organizando as variáveis conforme o modelo 6\n",
        "dados = df[['fxidade', 'cid50', 'ieh', 'icc', 'permanencia', 'uso_uti']]\n",
        "dados.head(3)"
      ],
      "execution_count": null,
      "outputs": [
        {
          "output_type": "execute_result",
          "data": {
            "text/html": [
              "<div>\n",
              "<style scoped>\n",
              "    .dataframe tbody tr th:only-of-type {\n",
              "        vertical-align: middle;\n",
              "    }\n",
              "\n",
              "    .dataframe tbody tr th {\n",
              "        vertical-align: top;\n",
              "    }\n",
              "\n",
              "    .dataframe thead th {\n",
              "        text-align: right;\n",
              "    }\n",
              "</style>\n",
              "<table border=\"1\" class=\"dataframe\">\n",
              "  <thead>\n",
              "    <tr style=\"text-align: right;\">\n",
              "      <th></th>\n",
              "      <th>fxidade</th>\n",
              "      <th>cid50</th>\n",
              "      <th>ieh</th>\n",
              "      <th>icc</th>\n",
              "      <th>permanencia</th>\n",
              "      <th>uso_uti</th>\n",
              "    </tr>\n",
              "  </thead>\n",
              "  <tbody>\n",
              "    <tr>\n",
              "      <th>0</th>\n",
              "      <td>1</td>\n",
              "      <td>0</td>\n",
              "      <td>0</td>\n",
              "      <td>0</td>\n",
              "      <td>2</td>\n",
              "      <td>0</td>\n",
              "    </tr>\n",
              "    <tr>\n",
              "      <th>1</th>\n",
              "      <td>1</td>\n",
              "      <td>0</td>\n",
              "      <td>0</td>\n",
              "      <td>0</td>\n",
              "      <td>4</td>\n",
              "      <td>1</td>\n",
              "    </tr>\n",
              "    <tr>\n",
              "      <th>2</th>\n",
              "      <td>5</td>\n",
              "      <td>0</td>\n",
              "      <td>0</td>\n",
              "      <td>0</td>\n",
              "      <td>3</td>\n",
              "      <td>0</td>\n",
              "    </tr>\n",
              "  </tbody>\n",
              "</table>\n",
              "</div>"
            ],
            "text/plain": [
              "   fxidade  cid50  ieh  icc  permanencia  uso_uti\n",
              "0        1      0    0    0            2        0\n",
              "1        1      0    0    0            4        1\n",
              "2        5      0    0    0            3        0"
            ]
          },
          "metadata": {},
          "execution_count": 8
        }
      ]
    },
    {
      "cell_type": "markdown",
      "metadata": {
        "id": "C8L1TiVnmS9j"
      },
      "source": [
        "# Aplicando a Regressão Logística"
      ]
    },
    {
      "cell_type": "code",
      "metadata": {
        "id": "jk5X1ej5mXuE"
      },
      "source": [
        "# Separando os Dados para teste e treino\n",
        "# Iremos trabalhar com os dados de treino para verificar o modelo de regressão com 0,7% dos dados separados\n",
        "y = df.obito\n",
        "X = pd.get_dummies(df[['fxidade', 'cid50', 'ieh', 'icc', 'permanencia', 'uso_uti']])\n",
        "X_train, X_test, y_train, y_test = train_test_split(X,y, test_size=0.3, random_state= 0)"
      ],
      "execution_count": null,
      "outputs": []
    },
    {
      "cell_type": "code",
      "metadata": {
        "colab": {
          "base_uri": "https://localhost:8080/"
        },
        "id": "BiQ5Ut8unEWp",
        "outputId": "7c238ee1-b3c1-4378-895c-9a6fb1453fbb"
      },
      "source": [
        "# Verificando o y_traino\n",
        "y_train.value_counts()"
      ],
      "execution_count": null,
      "outputs": [
        {
          "output_type": "execute_result",
          "data": {
            "text/plain": [
              "0    29974\n",
              "1     2177\n",
              "Name: obito, dtype: int64"
            ]
          },
          "metadata": {},
          "execution_count": 10
        }
      ]
    },
    {
      "cell_type": "code",
      "metadata": {
        "id": "0j-7t4fNm6Gh"
      },
      "source": [
        "reg_logistica = LogisticRegression()\n",
        "reg_logistica.fit(X_train, y_train)\n",
        "y_predict = reg_logistica.predict(X_train)"
      ],
      "execution_count": null,
      "outputs": []
    },
    {
      "cell_type": "code",
      "metadata": {
        "colab": {
          "base_uri": "https://localhost:8080/"
        },
        "id": "92XOlHYeOPNf",
        "outputId": "62ba8235-d1bc-4121-ee40-49b4edb438d6"
      },
      "source": [
        "print('Coeficientes:', reg_logistica.coef_)\n",
        "print('Intercepto: %0.2f' %reg_logistica.intercept_)\n",
        "print('R-squared: %0.2f' %reg_logistica.score(X_train, y_train))\n",
        "print('Acurácia: %0.2f' %accuracy_score(y_train, reg_logistica.predict(X_train)))\n",
        "print('Erro: %0.2f' %sqrt(mean_squared_error(y_train, y_predict)))"
      ],
      "execution_count": null,
      "outputs": [
        {
          "output_type": "stream",
          "name": "stdout",
          "text": [
            "Coeficientes: [[ 0.45770354  1.09244614  0.3561526   0.28421522 -0.35691218  2.90000178]]\n",
            "Intercepto: -4.08\n",
            "R-squared: 0.94\n",
            "Acurácia: 0.94\n",
            "Erro: 0.25\n"
          ]
        }
      ]
    },
    {
      "cell_type": "code",
      "metadata": {
        "colab": {
          "base_uri": "https://localhost:8080/"
        },
        "id": "1-64qa9DnPIb",
        "outputId": "4bb21fb2-fa4e-4714-d2a1-47c2617c25c3"
      },
      "source": [
        "print(classification_report(y_train, reg_logistica.predict(X_train)))"
      ],
      "execution_count": null,
      "outputs": [
        {
          "output_type": "stream",
          "name": "stdout",
          "text": [
            "              precision    recall  f1-score   support\n",
            "\n",
            "           0       0.95      0.99      0.97     29974\n",
            "           1       0.59      0.24      0.34      2177\n",
            "\n",
            "    accuracy                           0.94     32151\n",
            "   macro avg       0.77      0.61      0.65     32151\n",
            "weighted avg       0.92      0.94      0.92     32151\n",
            "\n"
          ]
        }
      ]
    },
    {
      "cell_type": "code",
      "metadata": {
        "colab": {
          "base_uri": "https://localhost:8080/",
          "height": 142
        },
        "id": "Qpvv_05moTYm",
        "outputId": "76ed2ee8-fc64-47b0-9139-ccd055fe89df"
      },
      "source": [
        "# Matriz de confusão\n",
        "confusion_matrix = pd.crosstab(y_train, y_predict, rownames=['Actual'], colnames=['Predicted'])\n",
        "confusion_matrix"
      ],
      "execution_count": null,
      "outputs": [
        {
          "output_type": "execute_result",
          "data": {
            "text/html": [
              "<div>\n",
              "<style scoped>\n",
              "    .dataframe tbody tr th:only-of-type {\n",
              "        vertical-align: middle;\n",
              "    }\n",
              "\n",
              "    .dataframe tbody tr th {\n",
              "        vertical-align: top;\n",
              "    }\n",
              "\n",
              "    .dataframe thead th {\n",
              "        text-align: right;\n",
              "    }\n",
              "</style>\n",
              "<table border=\"1\" class=\"dataframe\">\n",
              "  <thead>\n",
              "    <tr style=\"text-align: right;\">\n",
              "      <th>Predicted</th>\n",
              "      <th>0</th>\n",
              "      <th>1</th>\n",
              "    </tr>\n",
              "    <tr>\n",
              "      <th>Actual</th>\n",
              "      <th></th>\n",
              "      <th></th>\n",
              "    </tr>\n",
              "  </thead>\n",
              "  <tbody>\n",
              "    <tr>\n",
              "      <th>0</th>\n",
              "      <td>29610</td>\n",
              "      <td>364</td>\n",
              "    </tr>\n",
              "    <tr>\n",
              "      <th>1</th>\n",
              "      <td>1659</td>\n",
              "      <td>518</td>\n",
              "    </tr>\n",
              "  </tbody>\n",
              "</table>\n",
              "</div>"
            ],
            "text/plain": [
              "Predicted      0    1\n",
              "Actual               \n",
              "0          29610  364\n",
              "1           1659  518"
            ]
          },
          "metadata": {},
          "execution_count": 14
        }
      ]
    },
    {
      "cell_type": "code",
      "metadata": {
        "colab": {
          "base_uri": "https://localhost:8080/"
        },
        "id": "3QGmljMMof4H",
        "outputId": "d303c362-c452-4d1b-ef69-b82fee46187c"
      },
      "source": [
        "obito_esp = reg_logistica.predict_proba(X_train)[:,1]\n",
        "obito_esp"
      ],
      "execution_count": null,
      "outputs": [
        {
          "output_type": "execute_result",
          "data": {
            "text/plain": [
              "array([0.15602353, 0.00906695, 0.01290568, ..., 0.01290568, 0.01833954,\n",
              "       0.01833954])"
            ]
          },
          "metadata": {},
          "execution_count": 15
        }
      ]
    },
    {
      "cell_type": "code",
      "metadata": {
        "colab": {
          "base_uri": "https://localhost:8080/"
        },
        "id": "xIErJPbR7lz7",
        "outputId": "139103ec-de5e-4939-d782-856b78e55bc2"
      },
      "source": [
        "# Intervalo de Confiança - Curva ROC (depois da regressão)\n",
        "intervalo_conf_ROC(y_train, obito_esp)"
      ],
      "execution_count": null,
      "outputs": [
        {
          "output_type": "execute_result",
          "data": {
            "text/plain": [
              "(0.8727447390074485, 0.8914448745357422)"
            ]
          },
          "metadata": {},
          "execution_count": 16
        }
      ]
    },
    {
      "cell_type": "code",
      "metadata": {
        "id": "yiaRF90zOCks",
        "colab": {
          "base_uri": "https://localhost:8080/",
          "height": 606
        },
        "outputId": "fc69b77d-5601-4ce8-dc1c-4eb895bfa6b9"
      },
      "source": [
        "def pyplot_plot(y_true, y_score):\n",
        "  fpr, tpr, _ = roc_curve(y_true, y_score)\n",
        "  pyplot.rcParams['figure.figsize'] = [11, 7]\n",
        "  curve = roc_auc_score(y_true, y_score)\n",
        "  pyplot.plot(fpr, tpr, color='red', label='ROC curve (AUC: %0.2f)' % curve)\n",
        "  pyplot.plot(h_fpr, h_tpr, linestyle='--', label='' )\n",
        "  pyplot.xlabel('Falso positivo (Especificidade)') \n",
        "  pyplot.ylabel('Verdadeiro positivo (Sensibilidade)')\n",
        "  pyplot.legend()\n",
        "  pyplot.show()\n",
        "\n",
        "#pyplot.savefig('RLcurva_ROC', format = 'png')\n",
        "pyplot_plot(y_train, obito_esp)"
      ],
      "execution_count": null,
      "outputs": [
        {
          "output_type": "display_data",
          "data": {
            "image/png": "[encoded data removed]",
            "text/plain": [
              "<Figure size 1008x720 with 1 Axes>"
            ]
          },
          "metadata": {
            "needs_background": "light"
          }
        }
      ]
    },
    {
      "cell_type": "markdown",
      "metadata": {
        "id": "NfpwqLlRtUSF"
      },
      "source": [
        "# Testando o modelo para o banco de dados inteiro"
      ]
    },
    {
      "cell_type": "code",
      "metadata": {
        "colab": {
          "base_uri": "https://localhost:8080/"
        },
        "id": "WTnz370ItZJ8",
        "outputId": "fc4ddcbb-e202-4a50-d88c-22132affc686"
      },
      "source": [
        "dados_1 = reg_logistica.predict_proba(dados)[:,1]\n",
        "print('Somatório dos óbitos esperados %0.0f' % dados_1.sum())"
      ],
      "execution_count": null,
      "outputs": [
        {
          "output_type": "stream",
          "name": "stdout",
          "text": [
            "Somatório dos óbitos esperados 3109\n"
          ]
        }
      ]
    },
    {
      "cell_type": "code",
      "metadata": {
        "colab": {
          "base_uri": "https://localhost:8080/"
        },
        "id": "qhLNxKf8vbTU",
        "outputId": "3f670e49-fad5-44ce-a802-ea0863bb54c4"
      },
      "source": [
        "# óbitos observados (óbito = 1 e não óbito = 0)\n",
        "df['obito'].value_counts()"
      ],
      "execution_count": null,
      "outputs": [
        {
          "output_type": "execute_result",
          "data": {
            "text/plain": [
              "0    42789\n",
              "1     3141\n",
              "Name: obito, dtype: int64"
            ]
          },
          "metadata": {},
          "execution_count": 19
        }
      ]
    },
    {
      "cell_type": "code",
      "metadata": {
        "colab": {
          "base_uri": "https://localhost:8080/"
        },
        "id": "8SQN1P8SvmKi",
        "outputId": "00381dd4-ec13-4a1c-b60d-a21ec2137c2c"
      },
      "source": [
        "# Calculando a taxa, somatória dos obitos observados / somatória dos óbitos esperados\n",
        "Razao = 3141 / 3109\n",
        "print('Razão de Mortalidade Hospitalar Padronizado em 2017 foi de %0.2f' % Razao)"
      ],
      "execution_count": null,
      "outputs": [
        {
          "output_type": "stream",
          "name": "stdout",
          "text": [
            "Razão de Mortalidade Hospitalar Padronizado em 2017 foi de 1.01\n"
          ]
        }
      ]
    },
    {
      "cell_type": "markdown",
      "metadata": {
        "id": "Rz6jNTiUR4K5"
      },
      "source": [
        "Usando o modelo da regressão logística já treinado, obtivemos  por meio da função (predict_proba), cujo comando calcula a chance de cada individuo morrer com tais parâmetros aplicados. Para saber o número esperado de morte, é a somatória das probabilidades preditas."
      ]
    },
    {
      "cell_type": "markdown",
      "metadata": {
        "id": "vVvvaDo50I0O"
      },
      "source": [
        "# Série Histórica (2014 - 2020)"
      ]
    },
    {
      "cell_type": "code",
      "metadata": {
        "colab": {
          "base_uri": "https://localhost:8080/",
          "height": 419
        },
        "id": "b8fy08gr0Qa4",
        "outputId": "8784b38b-4237-4ae6-af62-5a58b3636a07"
      },
      "source": [
        "dataset = pd.read_csv('https://raw.githubusercontent.com/carlos-souza-blip/RMHP/main/rmhp_selecao_GO_SH.csv', sep=\",\")\n",
        "dataset"
      ],
      "execution_count": null,
      "outputs": [
        {
          "output_type": "execute_result",
          "data": {
            "text/html": [
              "<div>\n",
              "<style scoped>\n",
              "    .dataframe tbody tr th:only-of-type {\n",
              "        vertical-align: middle;\n",
              "    }\n",
              "\n",
              "    .dataframe tbody tr th {\n",
              "        vertical-align: top;\n",
              "    }\n",
              "\n",
              "    .dataframe thead th {\n",
              "        text-align: right;\n",
              "    }\n",
              "</style>\n",
              "<table border=\"1\" class=\"dataframe\">\n",
              "  <thead>\n",
              "    <tr style=\"text-align: right;\">\n",
              "      <th></th>\n",
              "      <th>cnes</th>\n",
              "      <th>sexo</th>\n",
              "      <th>idade</th>\n",
              "      <th>diag_princ</th>\n",
              "      <th>dias_perm</th>\n",
              "      <th>ano</th>\n",
              "      <th>fxidade</th>\n",
              "      <th>cid50</th>\n",
              "      <th>permanencia</th>\n",
              "      <th>uso_uti</th>\n",
              "      <th>obito</th>\n",
              "      <th>icc</th>\n",
              "      <th>ieh</th>\n",
              "    </tr>\n",
              "  </thead>\n",
              "  <tbody>\n",
              "    <tr>\n",
              "      <th>0</th>\n",
              "      <td>2338262</td>\n",
              "      <td>3</td>\n",
              "      <td>75</td>\n",
              "      <td>A318</td>\n",
              "      <td>4</td>\n",
              "      <td>2014</td>\n",
              "      <td>4</td>\n",
              "      <td>1</td>\n",
              "      <td>2</td>\n",
              "      <td>0</td>\n",
              "      <td>0</td>\n",
              "      <td>0</td>\n",
              "      <td>0</td>\n",
              "    </tr>\n",
              "    <tr>\n",
              "      <th>1</th>\n",
              "      <td>2338262</td>\n",
              "      <td>1</td>\n",
              "      <td>40</td>\n",
              "      <td>A480</td>\n",
              "      <td>1</td>\n",
              "      <td>2014</td>\n",
              "      <td>1</td>\n",
              "      <td>0</td>\n",
              "      <td>1</td>\n",
              "      <td>0</td>\n",
              "      <td>0</td>\n",
              "      <td>0</td>\n",
              "      <td>0</td>\n",
              "    </tr>\n",
              "    <tr>\n",
              "      <th>2</th>\n",
              "      <td>2338262</td>\n",
              "      <td>1</td>\n",
              "      <td>76</td>\n",
              "      <td>B873</td>\n",
              "      <td>3</td>\n",
              "      <td>2014</td>\n",
              "      <td>4</td>\n",
              "      <td>0</td>\n",
              "      <td>2</td>\n",
              "      <td>0</td>\n",
              "      <td>0</td>\n",
              "      <td>0</td>\n",
              "      <td>0</td>\n",
              "    </tr>\n",
              "    <tr>\n",
              "      <th>3</th>\n",
              "      <td>2338262</td>\n",
              "      <td>3</td>\n",
              "      <td>30</td>\n",
              "      <td>A419</td>\n",
              "      <td>11</td>\n",
              "      <td>2014</td>\n",
              "      <td>1</td>\n",
              "      <td>1</td>\n",
              "      <td>4</td>\n",
              "      <td>0</td>\n",
              "      <td>0</td>\n",
              "      <td>0</td>\n",
              "      <td>0</td>\n",
              "    </tr>\n",
              "    <tr>\n",
              "      <th>4</th>\n",
              "      <td>2338262</td>\n",
              "      <td>1</td>\n",
              "      <td>38</td>\n",
              "      <td>A480</td>\n",
              "      <td>3</td>\n",
              "      <td>2014</td>\n",
              "      <td>1</td>\n",
              "      <td>0</td>\n",
              "      <td>2</td>\n",
              "      <td>0</td>\n",
              "      <td>0</td>\n",
              "      <td>0</td>\n",
              "      <td>0</td>\n",
              "    </tr>\n",
              "    <tr>\n",
              "      <th>...</th>\n",
              "      <td>...</td>\n",
              "      <td>...</td>\n",
              "      <td>...</td>\n",
              "      <td>...</td>\n",
              "      <td>...</td>\n",
              "      <td>...</td>\n",
              "      <td>...</td>\n",
              "      <td>...</td>\n",
              "      <td>...</td>\n",
              "      <td>...</td>\n",
              "      <td>...</td>\n",
              "      <td>...</td>\n",
              "      <td>...</td>\n",
              "    </tr>\n",
              "    <tr>\n",
              "      <th>316655</th>\n",
              "      <td>7743068</td>\n",
              "      <td>1</td>\n",
              "      <td>55</td>\n",
              "      <td>B169</td>\n",
              "      <td>1</td>\n",
              "      <td>2020</td>\n",
              "      <td>2</td>\n",
              "      <td>0</td>\n",
              "      <td>1</td>\n",
              "      <td>1</td>\n",
              "      <td>1</td>\n",
              "      <td>0</td>\n",
              "      <td>0</td>\n",
              "    </tr>\n",
              "    <tr>\n",
              "      <th>316656</th>\n",
              "      <td>7743068</td>\n",
              "      <td>1</td>\n",
              "      <td>40</td>\n",
              "      <td>B169</td>\n",
              "      <td>2</td>\n",
              "      <td>2020</td>\n",
              "      <td>1</td>\n",
              "      <td>0</td>\n",
              "      <td>2</td>\n",
              "      <td>0</td>\n",
              "      <td>1</td>\n",
              "      <td>0</td>\n",
              "      <td>0</td>\n",
              "    </tr>\n",
              "    <tr>\n",
              "      <th>316657</th>\n",
              "      <td>7743068</td>\n",
              "      <td>1</td>\n",
              "      <td>51</td>\n",
              "      <td>B178</td>\n",
              "      <td>2</td>\n",
              "      <td>2020</td>\n",
              "      <td>2</td>\n",
              "      <td>0</td>\n",
              "      <td>2</td>\n",
              "      <td>0</td>\n",
              "      <td>0</td>\n",
              "      <td>0</td>\n",
              "      <td>0</td>\n",
              "    </tr>\n",
              "    <tr>\n",
              "      <th>316658</th>\n",
              "      <td>7743068</td>\n",
              "      <td>1</td>\n",
              "      <td>33</td>\n",
              "      <td>B188</td>\n",
              "      <td>3</td>\n",
              "      <td>2020</td>\n",
              "      <td>1</td>\n",
              "      <td>0</td>\n",
              "      <td>2</td>\n",
              "      <td>1</td>\n",
              "      <td>1</td>\n",
              "      <td>1</td>\n",
              "      <td>0</td>\n",
              "    </tr>\n",
              "    <tr>\n",
              "      <th>316659</th>\n",
              "      <td>7743068</td>\n",
              "      <td>3</td>\n",
              "      <td>48</td>\n",
              "      <td>B189</td>\n",
              "      <td>3</td>\n",
              "      <td>2020</td>\n",
              "      <td>1</td>\n",
              "      <td>0</td>\n",
              "      <td>2</td>\n",
              "      <td>0</td>\n",
              "      <td>0</td>\n",
              "      <td>1</td>\n",
              "      <td>0</td>\n",
              "    </tr>\n",
              "  </tbody>\n",
              "</table>\n",
              "<p>316660 rows × 13 columns</p>\n",
              "</div>"
            ],
            "text/plain": [
              "           cnes  sexo  idade diag_princ  ...  uso_uti  obito  icc  ieh\n",
              "0       2338262     3     75       A318  ...        0      0    0    0\n",
              "1       2338262     1     40       A480  ...        0      0    0    0\n",
              "2       2338262     1     76       B873  ...        0      0    0    0\n",
              "3       2338262     3     30       A419  ...        0      0    0    0\n",
              "4       2338262     1     38       A480  ...        0      0    0    0\n",
              "...         ...   ...    ...        ...  ...      ...    ...  ...  ...\n",
              "316655  7743068     1     55       B169  ...        1      1    0    0\n",
              "316656  7743068     1     40       B169  ...        0      1    0    0\n",
              "316657  7743068     1     51       B178  ...        0      0    0    0\n",
              "316658  7743068     1     33       B188  ...        1      1    1    0\n",
              "316659  7743068     3     48       B189  ...        0      0    1    0\n",
              "\n",
              "[316660 rows x 13 columns]"
            ]
          },
          "metadata": {},
          "execution_count": 21
        }
      ]
    },
    {
      "cell_type": "code",
      "metadata": {
        "colab": {
          "base_uri": "https://localhost:8080/",
          "height": 419
        },
        "id": "6qyPh2a8awve",
        "outputId": "d187a4d4-468f-46df-fcd0-841023a418be"
      },
      "source": [
        "#removendo o ano de 2020\n",
        "indexNames = dataset[ dataset['ano'] == 2020 ].index\n",
        "dataset.drop(indexNames , inplace=True)\n",
        "dataset"
      ],
      "execution_count": null,
      "outputs": [
        {
          "output_type": "execute_result",
          "data": {
            "text/html": [
              "<div>\n",
              "<style scoped>\n",
              "    .dataframe tbody tr th:only-of-type {\n",
              "        vertical-align: middle;\n",
              "    }\n",
              "\n",
              "    .dataframe tbody tr th {\n",
              "        vertical-align: top;\n",
              "    }\n",
              "\n",
              "    .dataframe thead th {\n",
              "        text-align: right;\n",
              "    }\n",
              "</style>\n",
              "<table border=\"1\" class=\"dataframe\">\n",
              "  <thead>\n",
              "    <tr style=\"text-align: right;\">\n",
              "      <th></th>\n",
              "      <th>cnes</th>\n",
              "      <th>sexo</th>\n",
              "      <th>idade</th>\n",
              "      <th>diag_princ</th>\n",
              "      <th>dias_perm</th>\n",
              "      <th>ano</th>\n",
              "      <th>fxidade</th>\n",
              "      <th>cid50</th>\n",
              "      <th>permanencia</th>\n",
              "      <th>uso_uti</th>\n",
              "      <th>obito</th>\n",
              "      <th>icc</th>\n",
              "      <th>ieh</th>\n",
              "    </tr>\n",
              "  </thead>\n",
              "  <tbody>\n",
              "    <tr>\n",
              "      <th>0</th>\n",
              "      <td>2338262</td>\n",
              "      <td>3</td>\n",
              "      <td>75</td>\n",
              "      <td>A318</td>\n",
              "      <td>4</td>\n",
              "      <td>2014</td>\n",
              "      <td>4</td>\n",
              "      <td>1</td>\n",
              "      <td>2</td>\n",
              "      <td>0</td>\n",
              "      <td>0</td>\n",
              "      <td>0</td>\n",
              "      <td>0</td>\n",
              "    </tr>\n",
              "    <tr>\n",
              "      <th>1</th>\n",
              "      <td>2338262</td>\n",
              "      <td>1</td>\n",
              "      <td>40</td>\n",
              "      <td>A480</td>\n",
              "      <td>1</td>\n",
              "      <td>2014</td>\n",
              "      <td>1</td>\n",
              "      <td>0</td>\n",
              "      <td>1</td>\n",
              "      <td>0</td>\n",
              "      <td>0</td>\n",
              "      <td>0</td>\n",
              "      <td>0</td>\n",
              "    </tr>\n",
              "    <tr>\n",
              "      <th>2</th>\n",
              "      <td>2338262</td>\n",
              "      <td>1</td>\n",
              "      <td>76</td>\n",
              "      <td>B873</td>\n",
              "      <td>3</td>\n",
              "      <td>2014</td>\n",
              "      <td>4</td>\n",
              "      <td>0</td>\n",
              "      <td>2</td>\n",
              "      <td>0</td>\n",
              "      <td>0</td>\n",
              "      <td>0</td>\n",
              "      <td>0</td>\n",
              "    </tr>\n",
              "    <tr>\n",
              "      <th>3</th>\n",
              "      <td>2338262</td>\n",
              "      <td>3</td>\n",
              "      <td>30</td>\n",
              "      <td>A419</td>\n",
              "      <td>11</td>\n",
              "      <td>2014</td>\n",
              "      <td>1</td>\n",
              "      <td>1</td>\n",
              "      <td>4</td>\n",
              "      <td>0</td>\n",
              "      <td>0</td>\n",
              "      <td>0</td>\n",
              "      <td>0</td>\n",
              "    </tr>\n",
              "    <tr>\n",
              "      <th>4</th>\n",
              "      <td>2338262</td>\n",
              "      <td>1</td>\n",
              "      <td>38</td>\n",
              "      <td>A480</td>\n",
              "      <td>3</td>\n",
              "      <td>2014</td>\n",
              "      <td>1</td>\n",
              "      <td>0</td>\n",
              "      <td>2</td>\n",
              "      <td>0</td>\n",
              "      <td>0</td>\n",
              "      <td>0</td>\n",
              "      <td>0</td>\n",
              "    </tr>\n",
              "    <tr>\n",
              "      <th>...</th>\n",
              "      <td>...</td>\n",
              "      <td>...</td>\n",
              "      <td>...</td>\n",
              "      <td>...</td>\n",
              "      <td>...</td>\n",
              "      <td>...</td>\n",
              "      <td>...</td>\n",
              "      <td>...</td>\n",
              "      <td>...</td>\n",
              "      <td>...</td>\n",
              "      <td>...</td>\n",
              "      <td>...</td>\n",
              "      <td>...</td>\n",
              "    </tr>\n",
              "    <tr>\n",
              "      <th>270484</th>\n",
              "      <td>7743068</td>\n",
              "      <td>1</td>\n",
              "      <td>50</td>\n",
              "      <td>B169</td>\n",
              "      <td>11</td>\n",
              "      <td>2019</td>\n",
              "      <td>2</td>\n",
              "      <td>0</td>\n",
              "      <td>4</td>\n",
              "      <td>0</td>\n",
              "      <td>0</td>\n",
              "      <td>0</td>\n",
              "      <td>0</td>\n",
              "    </tr>\n",
              "    <tr>\n",
              "      <th>270485</th>\n",
              "      <td>7743068</td>\n",
              "      <td>3</td>\n",
              "      <td>24</td>\n",
              "      <td>B178</td>\n",
              "      <td>4</td>\n",
              "      <td>2019</td>\n",
              "      <td>1</td>\n",
              "      <td>0</td>\n",
              "      <td>2</td>\n",
              "      <td>0</td>\n",
              "      <td>0</td>\n",
              "      <td>0</td>\n",
              "      <td>0</td>\n",
              "    </tr>\n",
              "    <tr>\n",
              "      <th>270486</th>\n",
              "      <td>7743068</td>\n",
              "      <td>1</td>\n",
              "      <td>60</td>\n",
              "      <td>B178</td>\n",
              "      <td>2</td>\n",
              "      <td>2019</td>\n",
              "      <td>3</td>\n",
              "      <td>0</td>\n",
              "      <td>2</td>\n",
              "      <td>0</td>\n",
              "      <td>0</td>\n",
              "      <td>0</td>\n",
              "      <td>0</td>\n",
              "    </tr>\n",
              "    <tr>\n",
              "      <th>270487</th>\n",
              "      <td>7743068</td>\n",
              "      <td>3</td>\n",
              "      <td>46</td>\n",
              "      <td>B188</td>\n",
              "      <td>7</td>\n",
              "      <td>2019</td>\n",
              "      <td>1</td>\n",
              "      <td>0</td>\n",
              "      <td>3</td>\n",
              "      <td>0</td>\n",
              "      <td>0</td>\n",
              "      <td>1</td>\n",
              "      <td>0</td>\n",
              "    </tr>\n",
              "    <tr>\n",
              "      <th>270488</th>\n",
              "      <td>7743068</td>\n",
              "      <td>3</td>\n",
              "      <td>24</td>\n",
              "      <td>B199</td>\n",
              "      <td>3</td>\n",
              "      <td>2019</td>\n",
              "      <td>1</td>\n",
              "      <td>0</td>\n",
              "      <td>2</td>\n",
              "      <td>0</td>\n",
              "      <td>0</td>\n",
              "      <td>0</td>\n",
              "      <td>0</td>\n",
              "    </tr>\n",
              "  </tbody>\n",
              "</table>\n",
              "<p>270489 rows × 13 columns</p>\n",
              "</div>"
            ],
            "text/plain": [
              "           cnes  sexo  idade diag_princ  ...  uso_uti  obito  icc  ieh\n",
              "0       2338262     3     75       A318  ...        0      0    0    0\n",
              "1       2338262     1     40       A480  ...        0      0    0    0\n",
              "2       2338262     1     76       B873  ...        0      0    0    0\n",
              "3       2338262     3     30       A419  ...        0      0    0    0\n",
              "4       2338262     1     38       A480  ...        0      0    0    0\n",
              "...         ...   ...    ...        ...  ...      ...    ...  ...  ...\n",
              "270484  7743068     1     50       B169  ...        0      0    0    0\n",
              "270485  7743068     3     24       B178  ...        0      0    0    0\n",
              "270486  7743068     1     60       B178  ...        0      0    0    0\n",
              "270487  7743068     3     46       B188  ...        0      0    1    0\n",
              "270488  7743068     3     24       B199  ...        0      0    0    0\n",
              "\n",
              "[270489 rows x 13 columns]"
            ]
          },
          "metadata": {},
          "execution_count": 22
        }
      ]
    },
    {
      "cell_type": "code",
      "metadata": {
        "id": "8k6rzW2S5yua"
      },
      "source": [
        "# Salvar a base de dados\n",
        "#dataset.to_csv('rmhp_selecao_GO_SH.csv')"
      ],
      "execution_count": null,
      "outputs": []
    },
    {
      "cell_type": "code",
      "metadata": {
        "id": "MOACAdw00vbF"
      },
      "source": [
        "# Separado os anos;\n",
        "# Aplicando o modelo 6, segundo a curva ROC.\n",
        "sh14 = dataset.loc[dataset['ano'] == 2014]\n",
        "sh14 = sh14[['fxidade', 'cid50', 'ieh', 'icc', 'permanencia', 'uso_uti']]\n",
        "sh15 = dataset.loc[dataset['ano'] == 2015]\n",
        "sh15 = sh15[['fxidade', 'cid50', 'ieh', 'icc', 'permanencia', 'uso_uti']]\n",
        "sh16 = dataset.loc[dataset['ano'] == 2016]\n",
        "sh16 = sh16[['fxidade', 'cid50', 'ieh', 'icc', 'permanencia', 'uso_uti']]\n",
        "sh17 = dataset.loc[dataset['ano'] == 2017]\n",
        "sh17 = sh17[['fxidade', 'cid50', 'ieh', 'icc', 'permanencia', 'uso_uti']]\n",
        "sh18 = dataset.loc[dataset['ano'] == 2018]\n",
        "sh18 = sh18[['fxidade', 'cid50', 'ieh', 'icc', 'permanencia', 'uso_uti']]\n",
        "sh19 = dataset.loc[dataset['ano'] == 2019]\n",
        "sh19 = sh19[['fxidade', 'cid50', 'ieh', 'icc', 'permanencia', 'uso_uti']]\n",
        "df3 = dataset[['fxidade', 'cid50', 'ieh', 'icc', 'permanencia', 'uso_uti']]"
      ],
      "execution_count": null,
      "outputs": []
    },
    {
      "cell_type": "code",
      "metadata": {
        "colab": {
          "base_uri": "https://localhost:8080/"
        },
        "id": "MWxm4tyg7lfi",
        "outputId": "e4a5960e-ecc6-4f42-debf-56c91a518039"
      },
      "source": [
        "# Tabela de Contigência 2x2\n",
        "obitod = dataset.groupby('ano')['obito'].value_counts()\n",
        "print(obitod)\n",
        "df6 = dataset['obito'].value_counts()\n",
        "print(df6)"
      ],
      "execution_count": null,
      "outputs": [
        {
          "output_type": "stream",
          "name": "stdout",
          "text": [
            "ano   obito\n",
            "2014  0        33295\n",
            "      1         2387\n",
            "2015  0        36886\n",
            "      1         2707\n",
            "2016  0        38934\n",
            "      1         3045\n",
            "2017  0        42789\n",
            "      1         3141\n",
            "2018  0        48512\n",
            "      1         3440\n",
            "2019  0        51536\n",
            "      1         3817\n",
            "Name: obito, dtype: int64\n",
            "0    251952\n",
            "1     18537\n",
            "Name: obito, dtype: int64\n"
          ]
        }
      ]
    },
    {
      "cell_type": "code",
      "metadata": {
        "colab": {
          "base_uri": "https://localhost:8080/"
        },
        "id": "UV-YRX_26ogu",
        "outputId": "2124d91d-1ff7-42ff-9249-bc60d3717932"
      },
      "source": [
        "sh14_ = reg_logistica.predict_proba(sh14)[:,1]\n",
        "print('Somatória dos óbitos esperados %0.0f' % sh14_.sum(), 'em 2014.')\n",
        "sh15_ = reg_logistica.predict_proba(sh15)[:,1]\n",
        "print('Somatória dos óbitos esperados %0.0f' % sh15_.sum(), 'em 2015.')\n",
        "sh16_ = reg_logistica.predict_proba(sh16)[:,1]\n",
        "print('Somatória dos óbitos esperados %0.0f' % sh16_.sum(), 'em 2016.')\n",
        "sh17_ = reg_logistica.predict_proba(sh17)[:,1]\n",
        "print('Somatória dos óbitos esperados %0.0f' % sh17_.sum(), 'em 2017.')\n",
        "sh18_ = reg_logistica.predict_proba(sh18)[:,1]\n",
        "print('Somatória dos óbitos esperados %0.0f' % sh18_.sum(), 'em 2018.')\n",
        "sh19_ = reg_logistica.predict_proba(sh19)[:,1]\n",
        "print('Somatória dos óbitos esperados %0.0f' % sh19_.sum(), 'em 2019.')\n",
        "\n",
        "# Rodando o modelo para o banco de dados inteiro\n",
        "df4 = reg_logistica.predict_proba(df3)[:,1]\n",
        "print('Somatória dos óbitos esperados %0.0f' % df4.sum())"
      ],
      "execution_count": null,
      "outputs": [
        {
          "output_type": "stream",
          "name": "stdout",
          "text": [
            "Somatória dos óbitos esperados 2170 em 2014.\n",
            "Somatória dos óbitos esperados 2449 em 2015.\n",
            "Somatória dos óbitos esperados 2752 em 2016.\n",
            "Somatória dos óbitos esperados 3109 em 2017.\n",
            "Somatória dos óbitos esperados 3795 em 2018.\n",
            "Somatória dos óbitos esperados 4192 em 2019.\n",
            "Somatória dos óbitos esperados 18468\n"
          ]
        }
      ]
    },
    {
      "cell_type": "code",
      "metadata": {
        "id": "RvwuA9LC4XwM"
      },
      "source": [
        "def intervalo_conf_esp(x):\n",
        "  n = 6\n",
        "  soma_esp = (sh14_+sh15_+sh16_+sh17_+sh18_+sh19_)\n",
        "  media = soma_esp / n\n",
        "  y = ((sh14_ - media) + (sh15_ - media) + (sh16_ - media)\n",
        "  + (sh17_ - media)  + (sh18_ - media) + (sh19_ - media))**2\n",
        "  rq = sqrt((y/n))\n",
        "  lower = media - (1.96 * (rq/sqrt(n)))\n",
        "  upper = media + (1.96 * (rq/sqrt(n))) \n",
        "\n",
        "  return(lower, upper)"
      ],
      "execution_count": null,
      "outputs": []
    },
    {
      "cell_type": "code",
      "metadata": {
        "colab": {
          "base_uri": "https://localhost:8080/"
        },
        "id": "FonYc9Y07UDs",
        "outputId": "457b255b-a3d2-4cf3-bb09-bb0595f440f5"
      },
      "source": [
        "razao14 = 2387 / 2170\n",
        "print('Razão de mortalidade hospitalar padronizada em 2014 de %0.2f' % razao14)\n",
        "razao15 = 2707 / 2449\n",
        "print('Razão de mortalidade hospitalar padronizada em 2015 de %0.2f' % razao15)\n",
        "razao16 = 3045 / 2752\n",
        "print('Razão de mortalidade hospitalar padronizada em 2016 de %0.2f' % razao16)\n",
        "razao17 = 3141 / 3109\n",
        "print('Razão de mortalidade hospitalar padronizada em 2017 de %0.2f' % razao17)\n",
        "razao18 = 3440 / 3795\n",
        "print('Razão de mortalidade hospitalar padronizada em 2018 de %0.2f' % razao18)\n",
        "razao19 = 3817 / 4192\n",
        "print('Razão de mortalidade hospitalar padronizada em 2019 de %0.2f' % razao19)\n",
        "\n",
        "# Cálculo RMHP para o banco de dados inteiro\n",
        "razaodf4 = 18537 / 18468\n",
        "print('Razão de mortalidade hospitalar padronizada da série histórica de %0.2f' % razaodf4)"
      ],
      "execution_count": null,
      "outputs": [
        {
          "output_type": "stream",
          "name": "stdout",
          "text": [
            "Razão de mortalidade hospitalar padronizada em 2014 de 1.10\n",
            "Razão de mortalidade hospitalar padronizada em 2015 de 1.11\n",
            "Razão de mortalidade hospitalar padronizada em 2016 de 1.11\n",
            "Razão de mortalidade hospitalar padronizada em 2017 de 1.01\n",
            "Razão de mortalidade hospitalar padronizada em 2018 de 0.91\n",
            "Razão de mortalidade hospitalar padronizada em 2019 de 0.91\n",
            "Razão de mortalidade hospitalar padronizada da série histórica de 1.00\n"
          ]
        }
      ]
    },
    {
      "cell_type": "code",
      "metadata": {
        "id": "-E2g69LG7JDE"
      },
      "source": [
        "def intervalo_conf_rmhp(observado, esperado):\n",
        "  lower = observado/esperado * (1 - 1/(9*observado) - 1.96 / (3 * sqrt(observado)))**3\n",
        "  lower = \"{:.2f}\".format(lower)\n",
        "  upper = (observado+1)/esperado * (1 - 1/(9*(1+observado)) + 1.96 / (3 * sqrt(observado+1)))**3\n",
        "  upper = \"{:.2f}\".format(upper)\n",
        "  return (lower, upper)"
      ],
      "execution_count": null,
      "outputs": []
    },
    {
      "cell_type": "code",
      "metadata": {
        "colab": {
          "base_uri": "https://localhost:8080/"
        },
        "id": "eKWfmJKLAIxO",
        "outputId": "d2be0119-406a-4cfb-ae09-c09f407a8c49"
      },
      "source": [
        "# intervalo de confiança para o ano de 2017.\n",
        "intervalo_conf_rmhp(3141, 3109)"
      ],
      "execution_count": null,
      "outputs": [
        {
          "output_type": "execute_result",
          "data": {
            "text/plain": [
              "('0.98', '1.05')"
            ]
          },
          "metadata": {},
          "execution_count": 46
        }
      ]
    },
    {
      "cell_type": "code",
      "metadata": {
        "colab": {
          "base_uri": "https://localhost:8080/"
        },
        "id": "MsW9zI6RC30p",
        "outputId": "cdd5de55-2eae-408c-9bd4-4e56aa0fe240"
      },
      "source": [
        "# intervalo de confiança para a série histórica (2014 - 2019)\n",
        "intervalo_conf_rmhp(18537, 18468)"
      ],
      "execution_count": null,
      "outputs": [
        {
          "output_type": "execute_result",
          "data": {
            "text/plain": [
              "('0.99', '1.02')"
            ]
          },
          "metadata": {},
          "execution_count": 47
        }
      ]
    },
    {
      "cell_type": "code",
      "metadata": {
        "colab": {
          "base_uri": "https://localhost:8080/",
          "height": 442
        },
        "id": "hlSJ6aTYgbvG",
        "outputId": "d112c7dd-e7e3-488c-9f12-e616b221c03b"
      },
      "source": [
        "taxa = [1.10, 1.11, 1.11, 1.01, 0.91, 0.91]\n",
        "ano = [2014, 2015, 2016, 2017, 2018, 2019]\n",
        "linha = [1, 1, 1, 1, 1, 1]\n",
        "\n",
        "pyplot.plot(ano, linha, linestyle='--', label='Margem')\n",
        "pyplot.plot(ano, taxa, marker='.', label='RMHP')\n",
        "\n",
        "pyplot.xlabel('Ano')\n",
        "pyplot.ylabel('Taxa')\n",
        "pyplot.legend()\n",
        "pyplot.rcParams['figure.figsize'] = [12, 8]\n",
        "\n",
        "# Salvar o grafico como imagem\n",
        "pyplot.savefig('RMHP_Taxa', format = 'png')\n",
        "\n",
        "pyplot.show()"
      ],
      "execution_count": null,
      "outputs": [
        {
          "output_type": "display_data",
          "data": {
            "image/png": "[encoded data removed]",
            "text/plain": [
              "<Figure size 792x504 with 1 Axes>"
            ]
          },
          "metadata": {
            "needs_background": "light"
          }
        }
      ]
    },
    {
      "cell_type": "code",
      "metadata": {
        "colab": {
          "base_uri": "https://localhost:8080/",
          "height": 542
        },
        "id": "UZXB0AElZP4R",
        "outputId": "bac2fd97-eb9b-49d1-bb25-9cf2f2370995"
      },
      "source": [
        "import plotly.express as px\n",
        "import plotly.graph_objects as go\n",
        "import plotly.offline as py\n",
        "\n",
        "trace = go.Scatter(x = ano, y = linha, mode = \"lines\", name = \"RMHP (dentro do esperado)\",\n",
        "                    marker = dict(color = 'blue'), text= \"\")\n",
        "\n",
        "trace1 = go.Scatter(x = ano, y = taxa, mode = \"lines+markers\", name = \"Taxa RMHP\",\n",
        "                    marker = dict(color = 'rgba(16, 112, 2, 0.8)'))\n",
        "\n",
        "data = [trace, trace1]\n",
        "\n",
        "layout = dict(title = '',\n",
        "              xaxis= dict( title = 'ANO', ticklen=30, zeroline= False),\n",
        "              yaxis = dict(title = 'Taxa', ticklen=30, zeroline= False ))\n",
        "\n",
        "fig = dict(data = data, layout = layout)\n",
        "\n",
        "py.iplot(fig)"
      ],
      "execution_count": null,
      "outputs": [
        {
          "output_type": "display_data",
          "data": {
            "text/html": [
              "<html>\n",
              "<head><meta charset=\"utf-8\" /></head>\n",
              "<body>\n",
              "    <div>\n",
              "            <script src=\"https://cdnjs.cloudflare.com/ajax/libs/mathjax/2.7.5/MathJax.js?config=TeX-AMS-MML_SVG\"></script><script type=\"text/javascript\">if (window.MathJax) {MathJax.Hub.Config({SVG: {font: \"STIX-Web\"}});}</script>\n",
              "                <script type=\"text/javascript\">window.PlotlyConfig = {MathJaxConfig: 'local'};</script>\n",
              "        <script src=\"https://cdn.plot.ly/plotly-latest.min.js\"></script>    \n",
              "            <div id=\"85b40234-5ab0-481f-8974-3a43b474d658\" class=\"plotly-graph-div\" style=\"height:525px; width:100%;\"></div>\n",
              "            <script type=\"text/javascript\">\n",
              "                \n",
              "                    window.PLOTLYENV=window.PLOTLYENV || {};\n",
              "                    \n",
              "                if (document.getElementById(\"85b40234-5ab0-481f-8974-3a43b474d658\")) {\n",
              "                    Plotly.newPlot(\n",
              "                        '85b40234-5ab0-481f-8974-3a43b474d658',\n",
              "                        [{\"marker\": {\"color\": \"blue\"}, \"mode\": \"lines\", \"name\": \"RMHP (dentro do esperado)\", \"text\": \"\", \"type\": \"scatter\", \"x\": [2014, 2015, 2016, 2017, 2018, 2019], \"y\": [1, 1, 1, 1, 1, 1]}, {\"marker\": {\"color\": \"rgba(16, 112, 2, 0.8)\"}, \"mode\": \"lines+markers\", \"name\": \"Taxa RMHP\", \"type\": \"scatter\", \"x\": [2014, 2015, 2016, 2017, 2018, 2019], \"y\": [1.1, 1.11, 1.11, 1.01, 0.91, 0.91]}],\n",
              "                        {\"template\": {\"data\": {\"bar\": [{\"error_x\": {\"color\": \"#2a3f5f\"}, \"error_y\": {\"color\": \"#2a3f5f\"}, \"marker\": {\"line\": {\"color\": \"#E5ECF6\", \"width\": 0.5}}, \"type\": \"bar\"}], \"barpolar\": [{\"marker\": {\"line\": {\"color\": \"#E5ECF6\", \"width\": 0.5}}, \"type\": \"barpolar\"}], \"carpet\": [{\"aaxis\": {\"endlinecolor\": \"#2a3f5f\", \"gridcolor\": \"white\", \"linecolor\": \"white\", \"minorgridcolor\": \"white\", \"startlinecolor\": \"#2a3f5f\"}, \"baxis\": {\"endlinecolor\": \"#2a3f5f\", \"gridcolor\": \"white\", \"linecolor\": \"white\", \"minorgridcolor\": \"white\", \"startlinecolor\": \"#2a3f5f\"}, \"type\": \"carpet\"}], \"choropleth\": [{\"colorbar\": {\"outlinewidth\": 0, \"ticks\": \"\"}, \"type\": \"choropleth\"}], \"contour\": [{\"colorbar\": {\"outlinewidth\": 0, \"ticks\": \"\"}, \"colorscale\": [[0.0, \"#0d0887\"], [0.1111111111111111, \"#46039f\"], [0.2222222222222222, \"#7201a8\"], [0.3333333333333333, \"#9c179e\"], [0.4444444444444444, \"#bd3786\"], [0.5555555555555556, \"#d8576b\"], [0.6666666666666666, \"#ed7953\"], [0.7777777777777778, \"#fb9f3a\"], [0.8888888888888888, \"#fdca26\"], [1.0, \"#f0f921\"]], \"type\": \"contour\"}], \"contourcarpet\": [{\"colorbar\": {\"outlinewidth\": 0, \"ticks\": \"\"}, \"type\": \"contourcarpet\"}], \"heatmap\": [{\"colorbar\": {\"outlinewidth\": 0, \"ticks\": \"\"}, \"colorscale\": [[0.0, \"#0d0887\"], [0.1111111111111111, \"#46039f\"], [0.2222222222222222, \"#7201a8\"], [0.3333333333333333, \"#9c179e\"], [0.4444444444444444, \"#bd3786\"], [0.5555555555555556, \"#d8576b\"], [0.6666666666666666, \"#ed7953\"], [0.7777777777777778, \"#fb9f3a\"], [0.8888888888888888, \"#fdca26\"], [1.0, \"#f0f921\"]], \"type\": \"heatmap\"}], \"heatmapgl\": [{\"colorbar\": {\"outlinewidth\": 0, \"ticks\": \"\"}, \"colorscale\": [[0.0, \"#0d0887\"], [0.1111111111111111, \"#46039f\"], [0.2222222222222222, \"#7201a8\"], [0.3333333333333333, \"#9c179e\"], [0.4444444444444444, \"#bd3786\"], [0.5555555555555556, \"#d8576b\"], [0.6666666666666666, \"#ed7953\"], [0.7777777777777778, \"#fb9f3a\"], [0.8888888888888888, \"#fdca26\"], [1.0, \"#f0f921\"]], \"type\": \"heatmapgl\"}], \"histogram\": [{\"marker\": {\"colorbar\": {\"outlinewidth\": 0, \"ticks\": \"\"}}, \"type\": \"histogram\"}], \"histogram2d\": [{\"colorbar\": {\"outlinewidth\": 0, \"ticks\": \"\"}, \"colorscale\": [[0.0, \"#0d0887\"], [0.1111111111111111, \"#46039f\"], [0.2222222222222222, \"#7201a8\"], [0.3333333333333333, \"#9c179e\"], [0.4444444444444444, \"#bd3786\"], [0.5555555555555556, \"#d8576b\"], [0.6666666666666666, \"#ed7953\"], [0.7777777777777778, \"#fb9f3a\"], [0.8888888888888888, \"#fdca26\"], [1.0, \"#f0f921\"]], \"type\": \"histogram2d\"}], \"histogram2dcontour\": [{\"colorbar\": {\"outlinewidth\": 0, \"ticks\": \"\"}, \"colorscale\": [[0.0, \"#0d0887\"], [0.1111111111111111, \"#46039f\"], [0.2222222222222222, \"#7201a8\"], [0.3333333333333333, \"#9c179e\"], [0.4444444444444444, \"#bd3786\"], [0.5555555555555556, \"#d8576b\"], [0.6666666666666666, \"#ed7953\"], [0.7777777777777778, \"#fb9f3a\"], [0.8888888888888888, \"#fdca26\"], [1.0, \"#f0f921\"]], \"type\": \"histogram2dcontour\"}], \"mesh3d\": [{\"colorbar\": {\"outlinewidth\": 0, \"ticks\": \"\"}, \"type\": \"mesh3d\"}], \"parcoords\": [{\"line\": {\"colorbar\": {\"outlinewidth\": 0, \"ticks\": \"\"}}, \"type\": \"parcoords\"}], \"pie\": [{\"automargin\": true, \"type\": \"pie\"}], \"scatter\": [{\"marker\": {\"colorbar\": {\"outlinewidth\": 0, \"ticks\": \"\"}}, \"type\": \"scatter\"}], \"scatter3d\": [{\"line\": {\"colorbar\": {\"outlinewidth\": 0, \"ticks\": \"\"}}, \"marker\": {\"colorbar\": {\"outlinewidth\": 0, \"ticks\": \"\"}}, \"type\": \"scatter3d\"}], \"scattercarpet\": [{\"marker\": {\"colorbar\": {\"outlinewidth\": 0, \"ticks\": \"\"}}, \"type\": \"scattercarpet\"}], \"scattergeo\": [{\"marker\": {\"colorbar\": {\"outlinewidth\": 0, \"ticks\": \"\"}}, \"type\": \"scattergeo\"}], \"scattergl\": [{\"marker\": {\"colorbar\": {\"outlinewidth\": 0, \"ticks\": \"\"}}, \"type\": \"scattergl\"}], \"scattermapbox\": [{\"marker\": {\"colorbar\": {\"outlinewidth\": 0, \"ticks\": \"\"}}, \"type\": \"scattermapbox\"}], \"scatterpolar\": [{\"marker\": {\"colorbar\": {\"outlinewidth\": 0, \"ticks\": \"\"}}, \"type\": \"scatterpolar\"}], \"scatterpolargl\": [{\"marker\": {\"colorbar\": {\"outlinewidth\": 0, \"ticks\": \"\"}}, \"type\": \"scatterpolargl\"}], \"scatterternary\": [{\"marker\": {\"colorbar\": {\"outlinewidth\": 0, \"ticks\": \"\"}}, \"type\": \"scatterternary\"}], \"surface\": [{\"colorbar\": {\"outlinewidth\": 0, \"ticks\": \"\"}, \"colorscale\": [[0.0, \"#0d0887\"], [0.1111111111111111, \"#46039f\"], [0.2222222222222222, \"#7201a8\"], [0.3333333333333333, \"#9c179e\"], [0.4444444444444444, \"#bd3786\"], [0.5555555555555556, \"#d8576b\"], [0.6666666666666666, \"#ed7953\"], [0.7777777777777778, \"#fb9f3a\"], [0.8888888888888888, \"#fdca26\"], [1.0, \"#f0f921\"]], \"type\": \"surface\"}], \"table\": [{\"cells\": {\"fill\": {\"color\": \"#EBF0F8\"}, \"line\": {\"color\": \"white\"}}, \"header\": {\"fill\": {\"color\": \"#C8D4E3\"}, \"line\": {\"color\": \"white\"}}, \"type\": \"table\"}]}, \"layout\": {\"annotationdefaults\": {\"arrowcolor\": \"#2a3f5f\", \"arrowhead\": 0, \"arrowwidth\": 1}, \"coloraxis\": {\"colorbar\": {\"outlinewidth\": 0, \"ticks\": \"\"}}, \"colorscale\": {\"diverging\": [[0, \"#8e0152\"], [0.1, \"#c51b7d\"], [0.2, \"#de77ae\"], [0.3, \"#f1b6da\"], [0.4, \"#fde0ef\"], [0.5, \"#f7f7f7\"], [0.6, \"#e6f5d0\"], [0.7, \"#b8e186\"], [0.8, \"#7fbc41\"], [0.9, \"#4d9221\"], [1, \"#276419\"]], \"sequential\": [[0.0, \"#0d0887\"], [0.1111111111111111, \"#46039f\"], [0.2222222222222222, \"#7201a8\"], [0.3333333333333333, \"#9c179e\"], [0.4444444444444444, \"#bd3786\"], [0.5555555555555556, \"#d8576b\"], [0.6666666666666666, \"#ed7953\"], [0.7777777777777778, \"#fb9f3a\"], [0.8888888888888888, \"#fdca26\"], [1.0, \"#f0f921\"]], \"sequentialminus\": [[0.0, \"#0d0887\"], [0.1111111111111111, \"#46039f\"], [0.2222222222222222, \"#7201a8\"], [0.3333333333333333, \"#9c179e\"], [0.4444444444444444, \"#bd3786\"], [0.5555555555555556, \"#d8576b\"], [0.6666666666666666, \"#ed7953\"], [0.7777777777777778, \"#fb9f3a\"], [0.8888888888888888, \"#fdca26\"], [1.0, \"#f0f921\"]]}, \"colorway\": [\"#636efa\", \"#EF553B\", \"#00cc96\", \"#ab63fa\", \"#FFA15A\", \"#19d3f3\", \"#FF6692\", \"#B6E880\", \"#FF97FF\", \"#FECB52\"], \"font\": {\"color\": \"#2a3f5f\"}, \"geo\": {\"bgcolor\": \"white\", \"lakecolor\": \"white\", \"landcolor\": \"#E5ECF6\", \"showlakes\": true, \"showland\": true, \"subunitcolor\": \"white\"}, \"hoverlabel\": {\"align\": \"left\"}, \"hovermode\": \"closest\", \"mapbox\": {\"style\": \"light\"}, \"paper_bgcolor\": \"white\", \"plot_bgcolor\": \"#E5ECF6\", \"polar\": {\"angularaxis\": {\"gridcolor\": \"white\", \"linecolor\": \"white\", \"ticks\": \"\"}, \"bgcolor\": \"#E5ECF6\", \"radialaxis\": {\"gridcolor\": \"white\", \"linecolor\": \"white\", \"ticks\": \"\"}}, \"scene\": {\"xaxis\": {\"backgroundcolor\": \"#E5ECF6\", \"gridcolor\": \"white\", \"gridwidth\": 2, \"linecolor\": \"white\", \"showbackground\": true, \"ticks\": \"\", \"zerolinecolor\": \"white\"}, \"yaxis\": {\"backgroundcolor\": \"#E5ECF6\", \"gridcolor\": \"white\", \"gridwidth\": 2, \"linecolor\": \"white\", \"showbackground\": true, \"ticks\": \"\", \"zerolinecolor\": \"white\"}, \"zaxis\": {\"backgroundcolor\": \"#E5ECF6\", \"gridcolor\": \"white\", \"gridwidth\": 2, \"linecolor\": \"white\", \"showbackground\": true, \"ticks\": \"\", \"zerolinecolor\": \"white\"}}, \"shapedefaults\": {\"line\": {\"color\": \"#2a3f5f\"}}, \"ternary\": {\"aaxis\": {\"gridcolor\": \"white\", \"linecolor\": \"white\", \"ticks\": \"\"}, \"baxis\": {\"gridcolor\": \"white\", \"linecolor\": \"white\", \"ticks\": \"\"}, \"bgcolor\": \"#E5ECF6\", \"caxis\": {\"gridcolor\": \"white\", \"linecolor\": \"white\", \"ticks\": \"\"}}, \"title\": {\"x\": 0.05}, \"xaxis\": {\"automargin\": true, \"gridcolor\": \"white\", \"linecolor\": \"white\", \"ticks\": \"\", \"title\": {\"standoff\": 15}, \"zerolinecolor\": \"white\", \"zerolinewidth\": 2}, \"yaxis\": {\"automargin\": true, \"gridcolor\": \"white\", \"linecolor\": \"white\", \"ticks\": \"\", \"title\": {\"standoff\": 15}, \"zerolinecolor\": \"white\", \"zerolinewidth\": 2}}}, \"title\": {\"text\": \"\"}, \"xaxis\": {\"ticklen\": 30, \"title\": {\"text\": \"ANO\"}, \"zeroline\": false}, \"yaxis\": {\"ticklen\": 30, \"title\": {\"text\": \"Taxa\"}, \"zeroline\": false}},\n",
              "                        {\"responsive\": true}\n",
              "                    ).then(function(){\n",
              "                            \n",
              "var gd = document.getElementById('85b40234-5ab0-481f-8974-3a43b474d658');\n",
              "var x = new MutationObserver(function (mutations, observer) {{\n",
              "        var display = window.getComputedStyle(gd).display;\n",
              "        if (!display || display === 'none') {{\n",
              "            console.log([gd, 'removed!']);\n",
              "            Plotly.purge(gd);\n",
              "            observer.disconnect();\n",
              "        }}\n",
              "}});\n",
              "\n",
              "// Listen for the removal of the full notebook cells\n",
              "var notebookContainer = gd.closest('#notebook-container');\n",
              "if (notebookContainer) {{\n",
              "    x.observe(notebookContainer, {childList: true});\n",
              "}}\n",
              "\n",
              "// Listen for the clearing of the current output cell\n",
              "var outputEl = gd.closest('.output');\n",
              "if (outputEl) {{\n",
              "    x.observe(outputEl, {childList: true});\n",
              "}}\n",
              "\n",
              "                        })\n",
              "                };\n",
              "                \n",
              "            </script>\n",
              "        </div>\n",
              "</body>\n",
              "</html>"
            ]
          },
          "metadata": {}
        }
      ]
    }
  ]
}